{
 "cells": [
  {
   "cell_type": "code",
   "execution_count": 60,
   "metadata": {},
   "outputs": [],
   "source": [
    "import pandas as pd\n",
    "import numpy as np\n",
    "import re as re"
   ]
  },
  {
   "cell_type": "code",
   "execution_count": 61,
   "metadata": {},
   "outputs": [
    {
     "name": "stdout",
     "output_type": "stream",
     "text": [
      "Requirement already satisfied: chardet in /usr/local/lib/python3.7/site-packages (3.0.4)\r\n"
     ]
    }
   ],
   "source": [
    "!pip3 install chardet"
   ]
  },
  {
   "cell_type": "code",
   "execution_count": 62,
   "metadata": {},
   "outputs": [
    {
     "data": {
      "text/plain": [
       "'/Users/jm/Desktop/ironhack/curso/shark-project'"
      ]
     },
     "execution_count": 62,
     "metadata": {},
     "output_type": "execute_result"
    }
   ],
   "source": [
    "pwd"
   ]
  },
  {
   "cell_type": "code",
   "execution_count": 63,
   "metadata": {},
   "outputs": [
    {
     "name": "stdout",
     "output_type": "stream",
     "text": [
      "(5992, 24)\n"
     ]
    }
   ],
   "source": [
    "import chardet\n",
    "\n",
    "with open('./Input/GSAF5.csv', 'rb') as f:\n",
    "    result = chardet.detect(f.read())  # or readline if the file is large\n",
    "\n",
    "\n",
    "df = pd.read_csv('./Input/GSAF5.csv', encoding=result['encoding'])\n",
    "print(df.shape)"
   ]
  },
  {
   "cell_type": "code",
   "execution_count": 64,
   "metadata": {},
   "outputs": [
    {
     "data": {
      "text/plain": [
       "Case Number                  0\n",
       "Date                         0\n",
       "Year                         0\n",
       "Type                         0\n",
       "Country                     43\n",
       "Area                       402\n",
       "Location                   496\n",
       "Activity                   527\n",
       "Name                       200\n",
       "Sex                        567\n",
       "Age                       2681\n",
       "Injury                      27\n",
       "Fatal (Y/N)                 19\n",
       "Time                      3213\n",
       "Species                   2934\n",
       "Investigator or Source      15\n",
       "pdf                          0\n",
       "href formula                 1\n",
       "href                         3\n",
       "Case Number.1                0\n",
       "Case Number.2                0\n",
       "original order               0\n",
       "Unnamed: 22               5991\n",
       "Unnamed: 23               5990\n",
       "dtype: int64"
      ]
     },
     "execution_count": 64,
     "metadata": {},
     "output_type": "execute_result"
    }
   ],
   "source": [
    "#Busco los nulos existentes en las columnas\n",
    "null_cols = df.isnull().sum()\n",
    "null_cols"
   ]
  },
  {
   "cell_type": "code",
   "execution_count": 65,
   "metadata": {},
   "outputs": [
    {
     "name": "stdout",
     "output_type": "stream",
     "text": [
      "(5992, 22)\n"
     ]
    }
   ],
   "source": [
    "#Elimino unnamed22 y unnamed 23 porque no continen datos\n",
    "drop_cols = list(null_cols[null_cols > 5000].index)\n",
    "df = df.drop(drop_cols, axis=1)\n",
    "print(df.shape)"
   ]
  },
  {
   "cell_type": "code",
   "execution_count": 66,
   "metadata": {},
   "outputs": [
    {
     "name": "stdout",
     "output_type": "stream",
     "text": [
      "(5992, 20)\n"
     ]
    }
   ],
   "source": [
    "#Elimino CaseNumber.1 y CaseNumber.2 porque son un duplicado de la primera columna CaseNumber\n",
    "df = df.drop(columns=['Case Number.1', 'Case Number.2'])\n",
    "print(df.shape)"
   ]
  },
  {
   "cell_type": "code",
   "execution_count": 67,
   "metadata": {},
   "outputs": [
    {
     "name": "stdout",
     "output_type": "stream",
     "text": [
      "(5992, 19)\n"
     ]
    }
   ],
   "source": [
    "''' \n",
    "Sale False porque no son exactamente iguales ya que al ver cuantos nulos hay en cada uno en una salen más que en otra,\n",
    "pero observando los datos las URL son iguales, por lo que borramos la que más nulos tiene.\n",
    "'''\n",
    "df['href formula'].equals(df['href'])\n",
    "\n",
    "df = df.drop(columns=['href'])\n",
    "print(df.shape)"
   ]
  },
  {
   "cell_type": "code",
   "execution_count": 68,
   "metadata": {},
   "outputs": [
    {
     "name": "stdout",
     "output_type": "stream",
     "text": [
      "(5992, 18)\n"
     ]
    }
   ],
   "source": [
    "#La columna pdf se refiere al pdf que surje de la URL por lo que no nos da información extra.\n",
    "df = df.drop(columns=['pdf'])\n",
    "print(df.shape)"
   ]
  },
  {
   "cell_type": "code",
   "execution_count": 69,
   "metadata": {},
   "outputs": [
    {
     "data": {
      "text/plain": [
       " N            8\n",
       "#VALUE!       1\n",
       "F             1\n",
       "N          4315\n",
       "N             1\n",
       "UNKNOWN      94\n",
       "Y          1552\n",
       "n             1\n",
       "Name: Fatal (Y/N), dtype: int64"
      ]
     },
     "execution_count": 69,
     "metadata": {},
     "output_type": "execute_result"
    }
   ],
   "source": [
    "df[\"Fatal (Y/N)\"].value_counts().sort_index()"
   ]
  },
  {
   "cell_type": "code",
   "execution_count": 70,
   "metadata": {},
   "outputs": [],
   "source": [
    "#Unifico valores en la columna Fatal para saber cuantos han sido mortales y cuales no\n",
    "df = df.rename(columns={\"Fatal (Y/N)\":\"Fatal\"})\n",
    "df.Fatal = df.Fatal.replace({\"N\": \"N\", \"n\": \"N\", \"#VALUE!\": \"N\", \"F\":\"Y\", \"UNKNOWN\":\"N\", \" N\": \"N\", \"N \": \"N\", \"Y\": \"Y\"})\n"
   ]
  },
  {
   "cell_type": "code",
   "execution_count": 71,
   "metadata": {},
   "outputs": [
    {
     "data": {
      "text/plain": [
       "N    4420\n",
       "Y    1553\n",
       "Name: Fatal, dtype: int64"
      ]
     },
     "execution_count": 71,
     "metadata": {},
     "output_type": "execute_result"
    }
   ],
   "source": [
    "df[\"Fatal\"].value_counts().sort_index()"
   ]
  },
  {
   "cell_type": "code",
   "execution_count": 72,
   "metadata": {},
   "outputs": [
    {
     "data": {
      "text/plain": [
       "0       124\n",
       "5         1\n",
       "77        1\n",
       "500       1\n",
       "1543      1\n",
       "       ... \n",
       "2012    117\n",
       "2013    122\n",
       "2014    125\n",
       "2015    139\n",
       "2016    103\n",
       "Name: Year, Length: 232, dtype: int64"
      ]
     },
     "execution_count": 72,
     "metadata": {},
     "output_type": "execute_result"
    }
   ],
   "source": [
    "df[\"Year\"].value_counts().sort_index()"
   ]
  },
  {
   "cell_type": "code",
   "execution_count": 73,
   "metadata": {},
   "outputs": [],
   "source": [
    "#Elimino las filas con un año inferior a 1850 porque no me fio de como hacian los registros en esa época.\n",
    "df = df.drop(df[df['Year']<1850].index)"
   ]
  },
  {
   "cell_type": "code",
   "execution_count": 74,
   "metadata": {},
   "outputs": [
    {
     "data": {
      "text/plain": [
       "1850      1\n",
       "1851      3\n",
       "1852     10\n",
       "1853      7\n",
       "1854      1\n",
       "       ... \n",
       "2012    117\n",
       "2013    122\n",
       "2014    125\n",
       "2015    139\n",
       "2016    103\n",
       "Name: Year, Length: 166, dtype: int64"
      ]
     },
     "execution_count": 74,
     "metadata": {},
     "output_type": "execute_result"
    }
   ],
   "source": [
    "df[\"Year\"].value_counts().sort_index()"
   ]
  },
  {
   "cell_type": "code",
   "execution_count": 75,
   "metadata": {},
   "outputs": [
    {
     "data": {
      "text/plain": [
       "1950    43\n",
       "1951    31\n",
       "1952    29\n",
       "1953    36\n",
       "1954    42\n",
       "1955    43\n",
       "1956    51\n",
       "1957    41\n",
       "1958    54\n",
       "1959    93\n",
       "1960    93\n",
       "1961    78\n",
       "1962    86\n",
       "1963    61\n",
       "1964    66\n",
       "1965    51\n",
       "1966    58\n",
       "1967    48\n",
       "1968    46\n",
       "1969    30\n",
       "1970    42\n",
       "1971    28\n",
       "1972    35\n",
       "1973    27\n",
       "1974    38\n",
       "1975    49\n",
       "1976    39\n",
       "1977    26\n",
       "1978    25\n",
       "1979    25\n",
       "1980    35\n",
       "1981    49\n",
       "1982    40\n",
       "1983    50\n",
       "1984    41\n",
       "1985    37\n",
       "1986    39\n",
       "1987    35\n",
       "1988    55\n",
       "1989    53\n",
       "1990    38\n",
       "1991    38\n",
       "1992    56\n",
       "1993    56\n",
       "1994    56\n",
       "1995    76\n",
       "1996    61\n",
       "1997    57\n",
       "1998    65\n",
       "1999    65\n",
       "Name: Year, dtype: int64"
      ]
     },
     "execution_count": 75,
     "metadata": {},
     "output_type": "execute_result"
    }
   ],
   "source": [
    "#Ataques últimos 50 años de 1800 son entre 1-20 al año por lo que no es muy representativo\n",
    "x = df[(df[\"Year\"] <1900)]\n",
    "x[\"Year\"].value_counts().sort_index()\n",
    "df = df.drop(df[df['Year']<1900].index)\n",
    "y = df[(df[\"Year\"] <1950)]\n",
    "y[\"Year\"].value_counts().sort_index()\n",
    "'''Ataques primeros 50 años de 1900 son como mucho 40 al año por lo que no es muy representativo\n",
    "Mi hipotesis comenzará a partir de los años 50\n",
    "'''\n",
    "df = df.drop(df[df['Year']<1950].index)\n",
    "z = df[(df[\"Year\"] <2000)]\n",
    "z[\"Year\"].value_counts().sort_index()\n"
   ]
  },
  {
   "cell_type": "code",
   "execution_count": 76,
   "metadata": {},
   "outputs": [
    {
     "data": {
      "text/plain": [
       "0             NaN\n",
       "1             NaN\n",
       "2             NaN\n",
       "3             NaN\n",
       "4       2 m shark\n",
       "          ...    \n",
       "4266          NaN\n",
       "4267          NaN\n",
       "4268          NaN\n",
       "4269          NaN\n",
       "4270          NaN\n",
       "Name: Species, Length: 4271, dtype: object"
      ]
     },
     "execution_count": 76,
     "metadata": {},
     "output_type": "execute_result"
    }
   ],
   "source": [
    "df = df.rename(columns={\"Species \":\"Species\"})\n"
   ]
  },
  {
   "cell_type": "code",
   "execution_count": 77,
   "metadata": {},
   "outputs": [
    {
     "data": {
      "text/plain": [
       "White shark                               146\n",
       "Shark involvement not confirmed            73\n",
       "Tiger shark                                51\n",
       "Bull shark                                 42\n",
       "4' shark                                   37\n",
       "                                         ... \n",
       "1.8 m silky shark                           1\n",
       "White shark, 3 to 3.5m                      1\n",
       "White shark, 2 m to 4 m [6'9\" to 13']       1\n",
       "Tawny nurse shark                           1\n",
       "Mako shark, 1.8 m [6']                      1\n",
       "Name: Species, Length: 1339, dtype: int64"
      ]
     },
     "execution_count": 77,
     "metadata": {},
     "output_type": "execute_result"
    }
   ],
   "source": [
    "df[\"Species\"].value_counts()"
   ]
  },
  {
   "cell_type": "code",
   "execution_count": 97,
   "metadata": {
    "scrolled": false
   },
   "outputs": [
    {
     "name": "stdout",
     "output_type": "stream",
     "text": [
      "{nan, \"1.2 m [4'] shark\", 'Dusky shark, 2m', \"Wobbegong shark, 5' \", \"2.5 m [8.25'] shark\", 'Wobbegong shark, 1.4 m [4\\'6\"] ', \"5' shark\", 'bull shark', \"3.7 m to 4.6 m [12' to 15'] shark\", 'Starry smoothhound shark, 1m', 'Juvenile dusky shark', 'C. maculpinnis or C. limbatus', 'Juvenile dusky or blacktip shark', \"1.2 m to 1.8 m [4' to 6'] shark\", ' ', \"Blacktip shark, 2' \", \"3 m [10'] shark seen in vicinity\", \"0.9 m to 1.2 m [3' to 4'] shark; Tooth fragment recovered from hand\", '2 m  \"yellow belly\" captive shark. Shark destroyed by aquarium staff next day', \"Carpet shark, 5' \", \"0.7 m [2.5'] shark\", \" Blacktip shark, C. maculipinnis. 1.9 m to 2.1 m [6.5' to 7'] \", \"1.8 m to 2.4 m [6' to 8'] shark, tooth fragments recovered \", \"60 cm to 90 cm [2' to 3'] blacktip or spinner shark\", \"Bitten by several 1.8 m [6'] sharks\", '\"small brown-colored shark\"', 'Shark involvement  questionable', '4.3 m shark', 'Shark involvement prior to death remains unconfirmed', \"5.5 m [18'] shark seen in the vicinity\", \"0.9 m to 1.5 m [3' to 5'] shark\", \"2.4 m [8'] shark\", '3+ m shark', '193-lb shark', 'Wobbegong shark ', \"1.5 m [5'] dusky shark\", \"4.5 to 5' shark\", \"6' blacktip shark\", \"3.7 m [12'] shark \", \"15' shark\", \"Thresher shark, 3.7 m [12'] \", \"7.5' shark\", \"1.5' to 2' shark\", '20 kg shark', '3.5 m shark', \"Carpet shark, 1.5 m [5']\", \"2.7 m [9'] shark with black-tipped pectoral fins\", \"8' shark\", '6 m shark', \"Blacktip shark, 5'\", '\"A small shark\"', 'Spurdog', \"20' shark\", \"1.8 m to 2.4 m  [6' to 8'] shark\", \"4' to 5' shark\", \"Two sharks seen in vicinity: 2.4 m & 4.25 m  [8' & 14'] TL\", 'Galapagos shark', '\"small sharks\"', '40 to 50 sharks attacked survivors in the water', '2 m shark, possibly a dusky or blacktip shark', \"2.1 m [7'] shark, a shark's serrated tooth recovered from toe\", \"5.5' shark\", \"1.8 m [6'] shark\", 'Questionable incident - shark bite may have precipitated drowning', \"7' to 8' shark \", \"3 m [10'] shark\", \"0.9 m  to 1.2 m [3' to 4'] shark\", \"1.8 m [6'] dogfish\", \"9' shark\", \"2.4 m [8']  shark\", \"12' to 14' shark\", \"9.5' shark?\", '\"Shark had a very large girth\"', \"2.4 m [8'], 600-lb shark\", \"1,5 m [5'] Caribbean reef shark (Carcharhinus  perezi)\", \"2.4 m to 3 m [8' to 10'] grey colored shark\", 'Blacktail reef shark', 'Wobbegong shark?', \"Blacktip shark, 2.4 m to 3 m [8' to 10'] \", '1.5 m to 2 m shark', 'dogfish shark', '1.3 to 1.6 m shark', \"6' to 7' blacktip shark\", '1.8 m silky shark', \"Porbeagle shark, 3 m [10']rk\", \" 1.5 m [5'] dusky shark\", \"2.1 m [7'] shark, possibly a spinner shark\", '1 m \"grey-colored\" shark', '> 3 m shark', 'Thresher shark', '\"black tipped\" shark', \"2 m [6.75'] sevengill  shark\", \"Said to involve 2 sharks: 5.2 m & 6 m [17' & 20'] \", \"4m [13'] shark\", \"4' to 6' shark\", 'Thought to involve a 1.2 to 1.5 m tubarão da gralha preta -  a blacktip shark, C. limbatus?', \">1.8 m [6'] shark\", 'Hand found in gut of 2.9 m to 3.3 m [9\\'7\" to 10\\'11\"] Galapagos shark, C. galapagensis', \"Sharks averaged 1.8 m [6'] in length\", \"1.7 m [5.5'] shark\", '3 m, 600-kg shark', \"4.9 m [16']shark\", '1.4 m [4\\'6\"] blacktip shark', \"Caribbean reef shark, 1.2 m to 1.5 m [4' to 5'] \", 'Considered a \"Doubtful\" incident', '7-gill shark?', \"Wobbegong shark, O. barbatus,  1.8 m [6'], identified by G.P. Whitley\", \"5 m [16.5'] shark\", \"Two shark's teeth recovered from canoe\", \"3' blacktip shark\", \"1.5 m [5']  shark\", \"1.5 m to 1.8 m  [5' to 6'] shark\", 'Whtietip reef shark', 'Possibly  a blacktip or spinner shark', \"4' to 8' shark\", '2 m [6\\'9\"] shark', \"3.7 [12'] shark\", \"14' to 18'shark\", \"6' to 8' shark\", '1.8 m to 2 m [6\\' to 6\\'9\"] shark', 'Grey reef shark', \"12' to 18' shark\", 'Possibly a small blacktip shark', \"1.2 m to 1.5 m [4' to 5']   shark\", \"Spinner shark, 6'\", \"Grey reef shark, 1.8 m [6'] grey reef shark, identified by Dr. L.P. L. Schultz based on photographs; identified as C. melanopterus by Stewart\", '1,100-lb shark', 'Blacktip or spinner shark?', ' \"gummy\" shark (Rhizoprionodon or Loxodon) 1.2 m [4\\']', 'Shark involvement not confirmed', \"2 m [6.75'] shark\", ' reef shark, 1.8m', 'blue shark', \"Blacktip shark, 4'\", \"Wobbegong shark, 1.4 m [4.6'] \", '7-gill shark', 'Shark involvement prior to death unconfired', \"3 m [10'] gaffed shark\", \"3' to 3.5' shark\", \"Blacktip shark, 5' to 6' \", '2 to 3 m shark', 'Leopard shark', '1 m  shark', '5m shark', '\"a little shark\"', \"3' small spotted catshark, Scyliorhinus canicula\", \"2.1 m to 2.4 m [7' to 8'] shark\", \"1.2 m [4'] spinner shark\", 'Port Jackson shark, 1m', '\"a small shark\"', \"Silky shark, 6.5'\", 'Carpet shark', '6 m, 600-kg shark', \"Caribbean reef shark, 6'\", \"1.8 m [6'] shark \", \"[4.5' to 5'] shark\", 'Wobbegong, 2m', \"Grey reef shark, 5' to 8' \", 'Possibly a broadnose 7-gill shark', 'Miami, a 60 cm blacktip  shark and two 60 cm bamboo catsharks', \"2.3 m [7'] shark\", 'Possibly a spinner shark', '2.1 m [7\\'] shark with \"a very flat head” that had followed the boat for 3 days', '1.8 metre shark', \"3' shark, possibly  a blacktip or spinner shark\", '200-lb shark', \"6', 100-lb shark\", \"1.2 m [4'] shark (spinner shark?)\", 'Wobbegong shark, 1m', \"1.8 m to 2.1 m [6' to 7'] shark\", 'Blacktip reef shark', '1.2 m [4\\'] \"grey-colored shark\"', \"Possibly a 1.5 m [5'] blacktip shark\", '1m shark', '1.7 m shark', 'Possibly a Caribbean reef shark', \"Possibly a 1.5 m [5'] blacktip or spinner shark\", 'Shark seen feeding on turtle scraps thrown overboard prior to incident.', \"1.8 to 2.4 m [6' to 8'] shark\", 'Grey reef shark, Identified by E.S. Hobson, F. Mautin & E.S. Reese (1961)', '1.6 m shark', \"Caribbean reef shark, 4.5'\", \"1.8 m [6'] blacktip shark or Caribbean reef shark\", 'silver shark', \"10' to 12' shark\", \"Sevengill shark, 2.4 m [8'] \", \"4' shark\", '3 m to 4 m shark', '1.5 m copper shark', \"Possibly a  1.8 m [6'] Zambezi shark\", '2.6 m shark', \"Wobbegong shark, 3' \", 'Unidentified shark', 'Grey reef shark, 2 m', \"0.9 m [3'] shark,  probably a blacktip or spinner shark\", '36\"  shark', '1.5 m grey reef shark', \"Caribbean reef shark, 7' to 8'\", \"4.3 m [14'], 1000-lb shark\", \"5' to 6' shark\", 'Blacktip reef shark, 1m', 'Copper shark', \"Blacktip or spinner shark, 4'\", '4 m shark', \"1.8 m to 2.1 m [6' to 7'] spinner or blacktip shark\", '8 sharks', '2 m shark', '1.8 m to 2.4 m [6\\' to 8\\'] \"black finned shark\"', \"1.5 m [5'] blacktip shark\", '90-kg \"blackfin\" shark', 'Broadnose sevengill shark', '150-lb shark', '<1 m shark', '1.8 m blacktip \"reef\" shark', \"8' to 10' shark\", '2 m [6\\'9\"], 87.5-kg [193-lb]  shark', \"76 cm [2.5'] carpet shark\", \"2.1 to 2.4 m [7' to 8'] shark\", 'mako shark', 'hammerhead shark', 'Spinner shark', \"Possibly a 1' to 3' blacktip or spinner shark\", \"3.7 to 4.5 m [12' to 15'] shark seen in vicinity\", \"1.8 m [6']  shark\", \"3.5' to 4' shark\", \"1.2 m to 1.8 m [4' to 6'] shark observed in area\", '8; 206-lb shark', '80-lb hooked shark', \"1.2 m [4'] dusky shark\", 'Questionable Incident', \"12' shark\", '20 to 30kg shark', 'Questionable incident', '60 cm  shark ', 'Grey reef shark, 1.5 m ', 'Unidentified', '.5 m shark', \"Wobbegong shark, 6'\", 'Possibly a blacktip shark', 'On 8/13/2005 anglers from New Zealand caught a 2.8 m [9\\'3\"], 140-kg [309-lb] shark at the same spot. It was believed this was the same shark that killed Alysha', \"2.7 m to 3 m [9' to 10'] sharks\", '2 m to  3 m shark', 'Thought to involve a cookie cutter shark', 'Possibly a blacktip reef shark', \"5' spinner shark\", \"2'  shark\", 'small sharks', '\"juvenile shark\"', 'Several sharks involved', '\"a young shark\"', \"4.3 m [14'] shark\", \"0.9 m to 1.2 m [3' to 4'] shark\", '200 to 300 kg shark', '1m to 1.2 m shark', 'Blacktip shark', \"5' to 8' shark\", 'Basking shark', '270 kg shark', 'possibly a small blacktip shark', \"2.4 m to 3.7 m [8' to 12'] shark\", \"1.2 m [4'] blacktip shark\", 'Shark involvement doubtful', '136-kg [300-lb] shark', 'lemon shark', \"10' shark\", '2m shark', '300-kg [662-lb] shark', \"5.5 m [18'] shark\", '\"gray shark\"', ' Wobbegong shark, 1.6 to 1.8m ', \"3 m to 4.3 m [10' to 14'] shark\", \"6' to 7' shark\", 'small blacktip shark?', '24\" to 30\" shark', 'Blacktip shark ', 'nurse shark', 'Blacktip shark pup', \"Blacktip shark, 1.8 m [6'] \", \"3 m to 4 m [10' to 13'] shark\", 'Spinner or blacktip sharks', \"1.5 m [5'] Caribbean reef shark\", '\"Dog shark\"', 'Thought to involve a blacktip shark', \"3.7 m [12'] sharks\", \"1.8 m [6'] grey reef shark\", \"3.5 m [11.5'] shark\", \"2' to 3' reef shark\", \"2.4 m  [8'] shark\", '43\" shark', 'A pack of 6 sharks', \"1.5 to 1.8 m [5' to 6'] shark\", \"2 m to 2.5 m [6.75'  to 8.25'] shark\", \"[4' to 5']\", 'A “small” shark', \"1.8 m [6'] Caribbean reef shark\", '1.3 m [4\\'3\"] shark', 'sand shark', 'Small shark', \"60 cm to 90 cm [2' to 3'] shark\", 'No shark involvement', \"1.8 m [6'] blacktip shark\", 'white shark', \"7' female shark\", \"0.9 m  [3'] shark\", 'Cookie cutter shark', \"Sevengill shark, 6' to 8'\", 'Tooth fragments recovered from hull', '\"Tintorero\"', 'Shark involvement questionable', 'Wobbegong shark', \"1.5 m to 2 m [5' to 6.75'] Caribbean reef shark \", \"Wobbegong shark, 1.2 m [4'] \", '1.8 m grey shark', '<1.5 m shark', \"2.5' shark\", \"3.7 m [12'] shark\", \"3.7 to 4.6 m [12' to 15'] sharks\", 'reef shark, 1.5m', '2 m cow shark', \"2.1 m to 2.4 m  [7' to 8'] shark\", 'Wobbegong', '2\\' \"banjo shark\"', \"2.7 m [9']  shark\", '18\" to 36\" shark', \"Less than 1.2 m [4']\", '2 m [6\\'9\"] shark ', '3.5 m [11\\'6\"] shark captured', \"3'  shark\", \"7' shark\", 'Dusky shark, 1 m ', 'Sevengill shark', '1.8 to 2 m C. albimarginatus', \"1.8 m [6'] grey-colored shark\", \"6 m [20'] shark\", \"1.8 m to 2.1 m [6' to 7']\\xa0 Caribbean Reef Shark \", 'Seven-gill shark', 'Said to involve a 1.5 m shark', 'Doubtful / Unconfirmed attack / Unable to verify in local records', '1.8 m shark', 'Sevengill shark, 2.4 m', \"3' to 5' shark\", \"Spinner shark, 3' to 4' \", \"4' shark?\", \"Blacktip shark, 5' to 6'\", 'small shark', 'Small dusky shark or blackfin shark', 'Copper shark, 50-kg [110-b] ', '1 m shark', '15 cm to 20 cm [6\" to 8\"] bite diameter just below left knee', \"60 cm [2'] captive shark\", \"1.2 m to 1.5 m [4' to 5'] shark\", \"0.9 m [3'] shark\", 'Blacktip shark, 2m', \"3.5' to 4.5' shark\", \"Two 2.1 m [7'] sharks\", \"Carpet shark, 10' \", \"2' shark\", \" Sevengill  shark, 1.2 m [4'] \", \"Wobbegong shark, 4'\", '8-lb shark', \"Porbeagle shark, 7'\", \"1.8 m [6'] shark, species identity questionable\", '2 sharks involved', '80 kg shark', \"3.7 m to 4.6 m [12' to 15'] shark seen in the vicinity\", \"Blacktip shark, 4' to 5'\", \"1.5 m to 1.8m [5' to 6'] shark\", 'Blacktip Reef shark ', 'blacktip or spinner shark', '\\xa0 ', '3.6 m  porbeagle shark', 'C. leucas tooth fragment recovered from kayak', '2 m to 3 m shark', \"1.5 m [5'] shark\", 'Caribbean reef shark', 'Porbeagle', \"2.7 m [9'] shark\", \"Dusky shark, 12' \", \"2.1 m [7'], 90-kg shark\", 'A \"small shark\"', \"2 m [6.75'] copper shark\", '\"reef shark\"', '2 m to 2.5 m shark', 'Wobbegong shark, 60cm', \"A 2' shark was seen in the area by witnesses\", 'reef shark', 'Species unidentified', \"Horn shar,k Heterodontus francisci, 1.2 m [4'] \", 'Dusky shark, 3m', \"1.8 to 2.1 m [6' to 7'] shark\", '1.5 m shark', '60 cm [23.6\"] blind or brown shark', 'Wobbegong shark, 2 m ', \"2 m [6.75'] shark, 200-kg shark T\", 'Salmon shark', 'Grey reef shark, Identified as C. menisorrah, by E.S. Hobson, F. Mautin & E.S. Reese (1961)', 'small carpet shark', \"4.5' shark\", \"1.8 m [6'] reef shark - or a 2.1 m to 2.4 m [7' to 8'] grey-colored shark\", \"Silky shark, 1.9 m [6.5']\", \"3 m [10'], 270- kg [595-lb] shark\", \"2' to 3' juvenile shark\", '5 m shark', 'Shovel-nosed guitarfish', 'A 10-year-old 94-pound pregnant blacktip reef shark', '4.5 m shark', \"1.8 m [6'] Zambezi shark\", '>2 m shark', \"1.8 m [6'], 136-kg [300-lb] shark \", \"3' to 4' shark\", '30-kg [66-lb] shark', \"4' tp 5' shark\", 'Lesser spotted dogfish, Scyliorhinus canicula, less than 80 cm in length', '2 sharks', 'raggedtooth shark', '18\" to 24\" shark', \"6' shark, possibly a blactip or spinner shark\", \"2.1 m [7'], 140-lb reef shark\", '400-lb shark', 'angel shark', \"Spinner shark, 5'\", '>1 m shark', \"1.5 m to 2.1 m  [5' to 7'] shark\", \"Grey reef shark, 2 m [6.75'] \", \"Two 1.2 m to 1.5 m [4' to 5'] sharks\", \"Porbeagle shark, 8' \", '2.13 m shark', 'Grey reef shark ', 'tiger shark', '2.5 m shark', '2.5 to 3 m shark', '2.27 m shark', \"2' to 3.5' shark\", '1.2 m to 1.5 m [4\\' to 5\\'] \"reef shark\"', \"Said to involve an 8' shark but more likely damage caused by debris\", \"1.2 m  [4'] shark\", \"4' spinner shark\", \"Blacktip shark, 1.8 m to 2.1 m [6' to 7'] \", \"Wobbegong shark, 4' \", 'juvenile shark', \"1.5 m to 2 m [5' to 6.75'] shark\", \"2.4 m [8'] shark, possibly a dusky shark\", \"Five 1.8 m [6']  sharks\", \">2.4 m [8'] shark\", \"4.6 m [15'] shark\", 'Caribbean reef sharks', \"3 m to 3.7 m [10' to 12'] shark\", 'Blacktip reef shark pup', 'a small shark', '1.5 to 2 m shark', \"1.5 to 2 m [5' to 6.75'] shark\", \">6.7 m [22']  shark\", \"2.1 m [7'] shark\", \"1' to 2' shark\", 'Unknown', \"4 m [13'] shark\", '2.4 m shark', \"Blacktip shark, 1.2 m to 1.8 m [4' to 6'] \", \"Wobbegong shark, 1.2 m [4'] k\", 'Shark involvement prior to death still to be determined', 'Unidentified species', \"1.5 m to 1.8 m [5' to 6'] shark\", 'Salmon shark suspected, but unlikely', '3.5 to 4 m shark', 'Shark involvement in his death uncofirmed', '2.2 m shark', 'reef shark?', '\"Attacked by a number of sharks\"', \"small sharks'\", \"4 m [13'] shark x 6\", 'zambesi shark', \"Grey reef shark, 1.2 m [4'] \", 'Blacktip reef shark ', \"5' to 7' shark\", 'Soupfin shark', 'whale shark', \"3.5 m [11.5']shark\", 'Said to involve a 4.9 m [16\\'] \"red shark\"', 'Goblin shark', \"1.5 m to 1.8 m [5' to 6'] sharks\", \"Said to involve a >4 m [13'] shark\", '\"A 2\\' (0.6 m) brown shark\"', \"Reef shark, 5'\", 'Wobbegong shark, 1.6m', 'Zambezi shark (tooth fragments recovered)', \"Wobbegong shark, 1.8 m [6'] \", \"1.5 m to 1.8 m [5' to 6'] “spear-eye” shark \", \"Dusky shark, 2.7 m [9'] dusky shark C. obscurus identified by S. Springer on tooth recovered\", \"a small shark'\", 'a small reef shark', 'A small spinner shark', 'small blacktip shark', \"14' shark\", 'Shark involvement unconfirmed', \">3 m [10'] shark\", \"13', 400-lb thresher shark\", 'Spinner shark or blacktip shark', \"1.8 m [6'] shark, possibly a blacktip\", 'reef shark, 1m', 'Questionable incident; reported as shark attack but thought to involve a pinniped instead ', \"Wobbegong shark, 1.5 m [5'] \", \"2.7 m [9'] silky shark\", \"1.2 m to 1.5 m [4.5' to 5'] shark\", \"1.5 to 2.5 m [5' to 8.25'] copper shark\", \"1.5 m to 1.8 m [5' to 6']  blacktip shark\", \"1.8 m to 2.4 m [6' to 8'] shark\", 'Unknown, but it was reported that a shark tooth was recovered from the wound', 'a \"small slim brown shark\"', \"Spinner shark, 1.2 m to 1.5 m [4' to 5'] \", 'Gray reef shark', \"106 cm [3.5']  shark\", \"Next morning a 3 m [10'] shark was caught that had Andrews' leg in its gut\", \"1.2 m [4'], possibly  larger shark\", \"Leopard shark, 3' Triakis semifasciata, identified by J.W. DeWitt (1955)\", \"1.4 m [4.5'] shark\", '3 m shark', \"3.7 m to 4.3 m [12' to 14'] shark\", '2 to 2.5 m shark', 'Reported as a shark attack, the story was a hoax', \"6' shark\", \"4.9 m [16'] shark\", 'Blacktip or spinner shark', '500-lb shark', '3- to 4-foot shark', \"2.7 m  [9'] shark\", \"2 m to 2.5 m [6.75'  to 8.25'] sixgill or sevengill shark\", \"1.8 m [6'] copper shark\", '“small brown shark”', \"Spinner shark, 7'\", 'small catsharks', \"3' shark\", '\"small shark\"', \"1.2 m [4'] shark hindered recovery of body\", '170-kg, 2.8 m shark', '3m shark', \"2.7 m [9']shark\", \"1' to 4' shark\", 'Dooley believed his Injury was caused by stingray (Dasyatidae family)', \"1.8 m [6'], 180-lb shark\", '2 sharks, 4.5 m & 3 m ', \"1.8 m [6'] carpet shark\", \"Blacktip reef shark, 1.5 m [5'] \", \"4.5' to 5' shark\", \"+3' shark\", \"2' to 3' shark\", '\"A long thin brown-colored shark\"', 'Unconfirmed incident', 'Possibly a juvenile blacktip or spinner shark'}\n"
     ]
    }
   ],
   "source": [
    "#Limpio la columna Species\n",
    "df = df.rename(columns={\"Species \":\"Species\"})\n",
    "df[\"Species\"]= df[\"Species\"].str.replace(\".*[bB]ull.*\", \"bull shark\", case = False) \n",
    "df[\"Species\"]= df[\"Species\"].str.replace(\".*[tT]iger.*\", \"tiger shark\", case = False) \n",
    "df[\"Species\"]= df[\"Species\"].str.replace(\".*[wW]hite.*\", \"white shark\", case = False) \n",
    "df[\"Species\"]= df[\"Species\"].str.replace(\".*[lL]emon.*\", \"lemon shark\", case = False) \n",
    "df[\"Species\"]= df[\"Species\"].str.replace(\".*[hH]ammerhead.*\", \"hammerhead shark\", case = False) \n",
    "df[\"Species\"]= df[\"Species\"].str.replace(\".*[nN]urse.*\", \"nurse shark\", case = False) \n",
    "df[\"Species\"]= df[\"Species\"].str.replace(\".*[bB]ronze.*\", \"bronze whaler shark\", case = False) \n",
    "df[\"Species\"]= df[\"Species\"].str.replace(\".*[bB]lue.*\", \"blue shark\", case = False) \n",
    "df[\"Species\"]= df[\"Species\"].str.replace(\".*[nN]ot.*\", \"Shark involvement not confirmed\", case = False) \n",
    "df[\"Species\"]= df[\"Species\"].str.replace(\".*[sS]and.*\", \"sand shark\", case = False) \n",
    "df[\"Species\"]= df[\"Species\"].str.replace(\".*[wW]hale.*\", \"whale shark\", case = False) \n",
    "df[\"Species\"]= df[\"Species\"].str.replace(\".*[aA]ngel.*\", \"angel shark\", case = False) \n",
    "df[\"Species\"]= df[\"Species\"].str.replace(\".*[mM]ako.*\", \"mako shark\", case = False) \n",
    "df[\"Species\"]= df[\"Species\"].str.replace(\".*[sS]ilver.*\", \"silver shark\", case = False) \n",
    "df[\"Species\"]= df[\"Species\"].str.replace(\".*[rR]aggedtooth.*\", \"raggedtooth shark\", case = False) \n",
    "df[\"Species\"]= df[\"Species\"].str.replace(\".*[zZ]ambesi.*\", \"zambesi shark\", case = False) \n",
    "\n",
    "\n",
    "print(set(df['Species']))\n"
   ]
  },
  {
   "cell_type": "code",
   "execution_count": 98,
   "metadata": {},
   "outputs": [
    {
     "data": {
      "text/plain": [
       "white shark                                      588\n",
       "tiger shark                                      226\n",
       "bull shark                                       160\n",
       "Shark involvement not confirmed                   96\n",
       "nurse shark                                       80\n",
       "                                                ... \n",
       "1.6 m shark                                        1\n",
       "Caribbean reef shark, 4.5'                         1\n",
       "1.5 to 2 m [5' to 6.75'] shark                     1\n",
       "1.5 to 2 m shark                                   1\n",
       "6' shark, possibly a blactip or spinner shark      1\n",
       "Name: Species, Length: 547, dtype: int64"
      ]
     },
     "execution_count": 98,
     "metadata": {},
     "output_type": "execute_result"
    }
   ],
   "source": [
    "df[\"Species\"].value_counts()\n"
   ]
  },
  {
   "cell_type": "code",
   "execution_count": 210,
   "metadata": {},
   "outputs": [],
   "source": [
    "'''\n",
    "Al eliminar las últimas filas la columna original order no tiene sentido,\n",
    "también elimino area y location porque mi hipotesis se va a centrar en paises,\n",
    "y el Investigator or Source, name y Activity porque no da un dato que me interese\n",
    "'''\n",
    "df = df.drop(columns=['Area', 'Location', 'original order', 'Investigator or Source', 'Name', 'Injury', 'Time','Species ','Activity'])"
   ]
  },
  {
   "cell_type": "code",
   "execution_count": 211,
   "metadata": {},
   "outputs": [
    {
     "name": "stdout",
     "output_type": "stream",
     "text": [
      "{nan, 'SOMALIA', 'CROATIA', 'OKINAWA', 'TAIWAN', 'UNITED KINGDOM', 'INDIAN OCEAN', 'IRAQ', 'TUNISIA', 'REUNION', 'NAMIBIA', 'NORTH PACIFIC OCEAN', 'MICRONESIA', 'WESTERN SAMOA', 'SENEGAL', 'THAILAND', 'BELIZE', 'BRITISH VIRGIN ISLANDS', 'FRANCE', 'NICARAGUA ', 'GREECE', 'YEMEN', 'FIJI', 'USA', 'ARUBA', 'PAPUA NEW GUINEA', 'HONDURAS', 'MONTENEGRO', 'ANGOLA', 'INDIA', ' TONGA', 'SOUTH PACIFIC OCEAN', 'SPAIN', 'BRITISH ISLES', 'PACIFIC OCEAN', 'UNITED ARAB EMIRATES (UAE)', 'GRAND CAYMAN', 'KENYA', 'RED SEA / INDIAN OCEAN', 'IRAN', 'NORTH ATLANTIC OCEAN', 'MARSHALL ISLANDS', 'CAYMAN ISLANDS', 'MALAYSIA', 'URUGUAY', 'SINGAPORE', 'ANDAMAN / NICOBAR ISLANDAS', 'UNITED ARAB EMIRATES', 'DIEGO GARCIA', 'TONGA', 'EGYPT / ISRAEL', 'CHILE', 'BERMUDA', 'TANZANIA', 'JAPAN', 'PHILIPPINES', 'PORTUGAL', 'VANUATU', 'EL SALVADOR', 'NORTH ATLANTIC OCEAN ', 'FRENCH POLYNESIA', 'ADMIRALTY ISLANDS', 'BRAZIL', 'MARTINIQUE', 'SOLOMON ISLANDS', 'NEW ZEALAND', 'MAURITIUS', 'VIETNAM', 'PANAMA', 'ARGENTINA', 'MID ATLANTIC OCEAN', 'INDONESIA', 'CUBA', 'SUDAN?', 'MADAGASCAR', 'COSTA RICA', 'Fiji', 'ST. MAARTIN', 'ITALY', 'SOUTH ATLANTIC OCEAN', 'ANTIGUA', 'RUSSIA', 'KIRIBATI', 'NEW GUINEA', 'GABON', 'MEXICO ', 'GUATEMALA', 'MEXICO', 'CHINA', 'NORTHERN ARABIAN SEA', 'THE BALKANS', 'ENGLAND', 'COLUMBIA', 'JAMAICA', 'PALESTINIAN TERRITORIES', 'SCOTLAND', 'SAMOA', 'VENEZUELA', 'MALDIVE ISLANDS', 'SEYCHELLES', 'SAUDI ARABIA', 'LIBERIA', 'FEDERATED STATES OF MICRONESIA', 'MOZAMBIQUE', 'GULF OF ADEN', 'TURKS & CAICOS', 'AZORES', 'NEVIS', 'PERSIAN GULF', 'GUAM', 'BANGLADESH', 'SOUTH CHINA SEA', 'CARIBBEAN SEA', 'TURKEY', 'HONG KONG', 'DOMINICAN REPUBLIC', 'AMERICAN SAMOA', 'BAHAMAS', 'MAYOTTE', 'BRITISH WEST INDIES', 'ECUADOR', 'JOHNSTON ISLAND', 'MALTA', 'NORWAY', 'SOUTH AFRICA', 'SUDAN', 'SOUTH KOREA', 'PALAU', 'PACIFIC OCEAN ', 'CANADA', 'ATLANTIC OCEAN', 'AUSTRALIA', 'NEW BRITAIN', 'CAPE VERDE', 'ST. MARTIN', 'PUERTO RICO', 'Sierra Leone', 'NETHERLANDS ANTILLES', 'Seychelles', 'NORTH SEA', 'EGYPT', 'NEW CALEDONIA', 'SRI LANKA', 'RED SEA', 'TRINIDAD & TOBAGO', 'ISRAEL', 'GRENADA', 'NIGERIA'}\n"
     ]
    }
   ],
   "source": [
    "#Renombro los paises mal escritos\n",
    "print(set(df['Country']))\n",
    "df[\"Country\"].value_counts()\n",
    "df.Country = df.Country.replace({\" PHILIPPINES\": \"PHILIPPINES\", \" TONGA\": \"TONGA\", 'ST. MAARTIN':'ST. MARTIN', 'SOUTH CHINA SEA':'CHINA', 'Fiji':'FIJI', 'Seychelles':'SEYCHELLES'})"
   ]
  },
  {
   "cell_type": "code",
   "execution_count": 212,
   "metadata": {},
   "outputs": [],
   "source": [
    "#Agrupo boating y boat\n",
    "df.Type = df.Type.replace({\"Boating\": \"Boat\"})"
   ]
  },
  {
   "cell_type": "code",
   "execution_count": 213,
   "metadata": {},
   "outputs": [],
   "source": [
    "#Quito el espacio del nombre de la columna y unifico valores\n",
    "df = df.rename(columns={\"Sex \":\"Sex\"})\n",
    "df[\"Sex\"].value_counts()\n",
    "df.Sex = df.Sex.replace({\"M \": \"M\"})\n"
   ]
  },
  {
   "cell_type": "code",
   "execution_count": 214,
   "metadata": {},
   "outputs": [
    {
     "name": "stdout",
     "output_type": "stream",
     "text": [
      "(4271, 9)\n"
     ]
    }
   ],
   "source": [
    "df[\"Sex\"].value_counts()\n",
    "print(df.shape)"
   ]
  },
  {
   "cell_type": "code",
   "execution_count": 215,
   "metadata": {},
   "outputs": [
    {
     "name": "stdout",
     "output_type": "stream",
     "text": [
      "(4270, 9)\n"
     ]
    }
   ],
   "source": [
    "#Elimino los datos que no me interesan ya que quiero saber por ataques a hombres o a mujeres\n",
    "df = df.drop(df[(df['Sex']==\".\")].index)\n",
    "df = df.drop(df[(df['Sex']==\"lli\")].index)\n",
    "df = df.drop(df[(df['Sex']==\"N\")].index)\n",
    "print(df.shape)"
   ]
  },
  {
   "cell_type": "code",
   "execution_count": 216,
   "metadata": {},
   "outputs": [
    {
     "data": {
      "text/plain": [
       "M    3385\n",
       "F     491\n",
       "Name: Sex, dtype: int64"
      ]
     },
     "execution_count": 216,
     "metadata": {},
     "output_type": "execute_result"
    }
   ],
   "source": [
    "df[\"Sex\"].value_counts()"
   ]
  },
  {
   "cell_type": "code",
   "execution_count": 217,
   "metadata": {},
   "outputs": [
    {
     "data": {
      "text/plain": [
       "19                 118\n",
       "20                 114\n",
       "16                 113\n",
       "15                 113\n",
       "17                 113\n",
       "                  ... \n",
       "adult                1\n",
       "46 & 34              1\n",
       "MAKE LINE GREEN      1\n",
       ">50                  1\n",
       "28, 23 & 30          1\n",
       "Name: Age, Length: 136, dtype: int64"
      ]
     },
     "execution_count": 217,
     "metadata": {},
     "output_type": "execute_result"
    }
   ],
   "source": [
    "df[\"Age\"].value_counts()"
   ]
  },
  {
   "cell_type": "code",
   "execution_count": 218,
   "metadata": {},
   "outputs": [
    {
     "data": {
      "text/plain": [
       "(4248, 9)"
      ]
     },
     "execution_count": 218,
     "metadata": {},
     "output_type": "execute_result"
    }
   ],
   "source": [
    "#Limpio la columna edad y lo paso a enteros\n",
    "df['Age'] = df['Age'].str.replace('[a-z]', ' ')\n",
    "df['Age'] = df['Age'].str.replace('[A-Z]', ' ')\n",
    "df['Age'] = df['Age'].str.replace('\\?', '')\n",
    "df['Age'] = df['Age'].str.replace('.', ' ')\n",
    "df['Age'] = df['Age'].str.replace('&', ' ')\n",
    "df['Age'] = df['Age'].str.replace('-', ' ')\n",
    "df['Age'] = df['Age'].str.replace('>', ' ')\n",
    "df['Age'] = df['Age'].str.replace('\\(', '')\n",
    "df['Age'] = df['Age'].str.replace('\\)', '')\n",
    "df['Age'] = df['Age'].str.replace('½', '')\n",
    "df['Age'] = df['Age'].str.replace('\\xa0 ', '')\n",
    "df['Age'] = df['Age'].str.replace('\\s+', '')\n",
    "df['Age'] = df['Age'].str.replace('\"\"', '')\n",
    "df = df.drop(df[(df['Age']==\"\")].index)\n",
    "df.shape"
   ]
  },
  {
   "cell_type": "code",
   "execution_count": 219,
   "metadata": {},
   "outputs": [
    {
     "name": "stdout",
     "output_type": "stream",
     "text": [
      "{'77', '60', '62', '66', '51', '11', '48', '34', '27', '75', '31', '53', '84', '35', '10', '42', '17', '43', '6', '46', '18', '28', '86', '81', '40', '7', '32', '13', '21', '14', '78', '3', '23', '15', '22', '74', '71', '38', '52', '73', '64', '36', '44', '29', '57', '54', '12', '1', '45', '68', '30', '37', '50', '24', '8', '5', '65', '33', '16', '59', '67', '20', '9', '72', '58', '63', '41', '69', '87', '19', '47', '56', '70', '25', '49', '26', '55', '39', '61'}\n"
     ]
    },
    {
     "data": {
      "text/plain": [
       "(2823, 9)"
      ]
     },
     "execution_count": 219,
     "metadata": {},
     "output_type": "execute_result"
    }
   ],
   "source": [
    "df = df[df['Age'].str.len().lt(3)]\n",
    "print(set(df['Age']))\n",
    "df['Age'].value_counts()\n",
    "df.dtypes\n",
    "df.shape"
   ]
  },
  {
   "cell_type": "code",
   "execution_count": 220,
   "metadata": {},
   "outputs": [
    {
     "data": {
      "text/plain": [
       "(2823, 9)"
      ]
     },
     "execution_count": 220,
     "metadata": {},
     "output_type": "execute_result"
    }
   ],
   "source": [
    "df[\"Age\"] = df[\"Age\"].astype(int)\n",
    "df.shape"
   ]
  },
  {
   "cell_type": "code",
   "execution_count": 221,
   "metadata": {},
   "outputs": [
    {
     "data": {
      "text/plain": [
       "Case Number     object\n",
       "Date            object\n",
       "Year             int64\n",
       "Type            object\n",
       "Country         object\n",
       "Sex             object\n",
       "Age              int64\n",
       "Fatal           object\n",
       "href formula    object\n",
       "dtype: object"
      ]
     },
     "execution_count": 221,
     "metadata": {},
     "output_type": "execute_result"
    }
   ],
   "source": [
    "df.dtypes"
   ]
  },
  {
   "cell_type": "code",
   "execution_count": 222,
   "metadata": {},
   "outputs": [
    {
     "data": {
      "text/html": [
       "<div>\n",
       "<style scoped>\n",
       "    .dataframe tbody tr th:only-of-type {\n",
       "        vertical-align: middle;\n",
       "    }\n",
       "\n",
       "    .dataframe tbody tr th {\n",
       "        vertical-align: top;\n",
       "    }\n",
       "\n",
       "    .dataframe thead th {\n",
       "        text-align: right;\n",
       "    }\n",
       "</style>\n",
       "<table border=\"1\" class=\"dataframe\">\n",
       "  <thead>\n",
       "    <tr style=\"text-align: right;\">\n",
       "      <th></th>\n",
       "      <th>Case Number</th>\n",
       "      <th>Date</th>\n",
       "      <th>Year</th>\n",
       "      <th>Type</th>\n",
       "      <th>Country</th>\n",
       "      <th>Sex</th>\n",
       "      <th>Age</th>\n",
       "      <th>Fatal</th>\n",
       "      <th>href formula</th>\n",
       "    </tr>\n",
       "  </thead>\n",
       "  <tbody>\n",
       "    <tr>\n",
       "      <th>0</th>\n",
       "      <td>2016.09.18.c</td>\n",
       "      <td>18-Sep-16</td>\n",
       "      <td>2016</td>\n",
       "      <td>Unprovoked</td>\n",
       "      <td>USA</td>\n",
       "      <td>M</td>\n",
       "      <td>16</td>\n",
       "      <td>N</td>\n",
       "      <td>http://sharkattackfile.net/spreadsheets/pdf_di...</td>\n",
       "    </tr>\n",
       "    <tr>\n",
       "      <th>1</th>\n",
       "      <td>2016.09.18.b</td>\n",
       "      <td>18-Sep-16</td>\n",
       "      <td>2016</td>\n",
       "      <td>Unprovoked</td>\n",
       "      <td>USA</td>\n",
       "      <td>M</td>\n",
       "      <td>36</td>\n",
       "      <td>N</td>\n",
       "      <td>http://sharkattackfile.net/spreadsheets/pdf_di...</td>\n",
       "    </tr>\n",
       "    <tr>\n",
       "      <th>2</th>\n",
       "      <td>2016.09.18.a</td>\n",
       "      <td>18-Sep-16</td>\n",
       "      <td>2016</td>\n",
       "      <td>Unprovoked</td>\n",
       "      <td>USA</td>\n",
       "      <td>M</td>\n",
       "      <td>43</td>\n",
       "      <td>N</td>\n",
       "      <td>http://sharkattackfile.net/spreadsheets/pdf_di...</td>\n",
       "    </tr>\n",
       "    <tr>\n",
       "      <th>6</th>\n",
       "      <td>2016.09.11</td>\n",
       "      <td>11-Sep-16</td>\n",
       "      <td>2016</td>\n",
       "      <td>Unprovoked</td>\n",
       "      <td>USA</td>\n",
       "      <td>M</td>\n",
       "      <td>60</td>\n",
       "      <td>N</td>\n",
       "      <td>http://sharkattackfile.net/spreadsheets/pdf_di...</td>\n",
       "    </tr>\n",
       "    <tr>\n",
       "      <th>7</th>\n",
       "      <td>2016.09.07</td>\n",
       "      <td>07-Sep-16</td>\n",
       "      <td>2016</td>\n",
       "      <td>Unprovoked</td>\n",
       "      <td>USA</td>\n",
       "      <td>F</td>\n",
       "      <td>51</td>\n",
       "      <td>N</td>\n",
       "      <td>http://sharkattackfile.net/spreadsheets/pdf_di...</td>\n",
       "    </tr>\n",
       "    <tr>\n",
       "      <th>...</th>\n",
       "      <td>...</td>\n",
       "      <td>...</td>\n",
       "      <td>...</td>\n",
       "      <td>...</td>\n",
       "      <td>...</td>\n",
       "      <td>...</td>\n",
       "      <td>...</td>\n",
       "      <td>...</td>\n",
       "      <td>...</td>\n",
       "    </tr>\n",
       "    <tr>\n",
       "      <th>4247</th>\n",
       "      <td>1950.05.24</td>\n",
       "      <td>24-May-50</td>\n",
       "      <td>1950</td>\n",
       "      <td>Unprovoked</td>\n",
       "      <td>SOUTH AFRICA</td>\n",
       "      <td>M</td>\n",
       "      <td>27</td>\n",
       "      <td>N</td>\n",
       "      <td>http://sharkattackfile.net/spreadsheets/pdf_di...</td>\n",
       "    </tr>\n",
       "    <tr>\n",
       "      <th>4249</th>\n",
       "      <td>1950.04.09.b</td>\n",
       "      <td>09-Apr-50</td>\n",
       "      <td>1950</td>\n",
       "      <td>Sea Disaster</td>\n",
       "      <td>AUSTRALIA</td>\n",
       "      <td>M</td>\n",
       "      <td>50</td>\n",
       "      <td>Y</td>\n",
       "      <td>http://sharkattackfile.net/spreadsheets/pdf_di...</td>\n",
       "    </tr>\n",
       "    <tr>\n",
       "      <th>4252</th>\n",
       "      <td>1950.03.08</td>\n",
       "      <td>08-Mar-50</td>\n",
       "      <td>1950</td>\n",
       "      <td>Unprovoked</td>\n",
       "      <td>SOUTH AFRICA</td>\n",
       "      <td>M</td>\n",
       "      <td>20</td>\n",
       "      <td>Y</td>\n",
       "      <td>http://sharkattackfile.net/spreadsheets/pdf_di...</td>\n",
       "    </tr>\n",
       "    <tr>\n",
       "      <th>4255</th>\n",
       "      <td>1950.02.11</td>\n",
       "      <td>11-Feb-50</td>\n",
       "      <td>1950</td>\n",
       "      <td>Unprovoked</td>\n",
       "      <td>SOUTH AFRICA</td>\n",
       "      <td>M</td>\n",
       "      <td>14</td>\n",
       "      <td>Y</td>\n",
       "      <td>http://sharkattackfile.net/spreadsheets/pdf_di...</td>\n",
       "    </tr>\n",
       "    <tr>\n",
       "      <th>4262</th>\n",
       "      <td>1950.00.00.i</td>\n",
       "      <td>Summer 1950</td>\n",
       "      <td>1950</td>\n",
       "      <td>Unprovoked</td>\n",
       "      <td>INDONESIA</td>\n",
       "      <td>M</td>\n",
       "      <td>78</td>\n",
       "      <td>Y</td>\n",
       "      <td>http://sharkattackfile.net/spreadsheets/pdf_di...</td>\n",
       "    </tr>\n",
       "  </tbody>\n",
       "</table>\n",
       "<p>2823 rows × 9 columns</p>\n",
       "</div>"
      ],
      "text/plain": [
       "       Case Number         Date  Year          Type       Country Sex  Age  \\\n",
       "0     2016.09.18.c    18-Sep-16  2016    Unprovoked           USA   M   16   \n",
       "1     2016.09.18.b    18-Sep-16  2016    Unprovoked           USA   M   36   \n",
       "2     2016.09.18.a    18-Sep-16  2016    Unprovoked           USA   M   43   \n",
       "6       2016.09.11    11-Sep-16  2016    Unprovoked           USA   M   60   \n",
       "7       2016.09.07    07-Sep-16  2016    Unprovoked           USA   F   51   \n",
       "...            ...          ...   ...           ...           ...  ..  ...   \n",
       "4247    1950.05.24    24-May-50  1950    Unprovoked  SOUTH AFRICA   M   27   \n",
       "4249  1950.04.09.b    09-Apr-50  1950  Sea Disaster     AUSTRALIA   M   50   \n",
       "4252    1950.03.08    08-Mar-50  1950    Unprovoked  SOUTH AFRICA   M   20   \n",
       "4255    1950.02.11    11-Feb-50  1950    Unprovoked  SOUTH AFRICA   M   14   \n",
       "4262  1950.00.00.i  Summer 1950  1950    Unprovoked     INDONESIA   M   78   \n",
       "\n",
       "     Fatal                                       href formula  \n",
       "0        N  http://sharkattackfile.net/spreadsheets/pdf_di...  \n",
       "1        N  http://sharkattackfile.net/spreadsheets/pdf_di...  \n",
       "2        N  http://sharkattackfile.net/spreadsheets/pdf_di...  \n",
       "6        N  http://sharkattackfile.net/spreadsheets/pdf_di...  \n",
       "7        N  http://sharkattackfile.net/spreadsheets/pdf_di...  \n",
       "...    ...                                                ...  \n",
       "4247     N  http://sharkattackfile.net/spreadsheets/pdf_di...  \n",
       "4249     Y  http://sharkattackfile.net/spreadsheets/pdf_di...  \n",
       "4252     Y  http://sharkattackfile.net/spreadsheets/pdf_di...  \n",
       "4255     Y  http://sharkattackfile.net/spreadsheets/pdf_di...  \n",
       "4262     Y  http://sharkattackfile.net/spreadsheets/pdf_di...  \n",
       "\n",
       "[2823 rows x 9 columns]"
      ]
     },
     "execution_count": 222,
     "metadata": {},
     "output_type": "execute_result"
    }
   ],
   "source": [
    "df"
   ]
  },
  {
   "cell_type": "code",
   "execution_count": 223,
   "metadata": {},
   "outputs": [
    {
     "data": {
      "text/html": [
       "<div>\n",
       "<style scoped>\n",
       "    .dataframe tbody tr th:only-of-type {\n",
       "        vertical-align: middle;\n",
       "    }\n",
       "\n",
       "    .dataframe tbody tr th {\n",
       "        vertical-align: top;\n",
       "    }\n",
       "\n",
       "    .dataframe thead th {\n",
       "        text-align: right;\n",
       "    }\n",
       "</style>\n",
       "<table border=\"1\" class=\"dataframe\">\n",
       "  <thead>\n",
       "    <tr style=\"text-align: right;\">\n",
       "      <th></th>\n",
       "      <th>Case Number</th>\n",
       "      <th>Date</th>\n",
       "      <th>Year</th>\n",
       "      <th>Type</th>\n",
       "      <th>Sex</th>\n",
       "      <th>Age</th>\n",
       "      <th>Fatal</th>\n",
       "      <th>href formula</th>\n",
       "    </tr>\n",
       "    <tr>\n",
       "      <th>Country</th>\n",
       "      <th></th>\n",
       "      <th></th>\n",
       "      <th></th>\n",
       "      <th></th>\n",
       "      <th></th>\n",
       "      <th></th>\n",
       "      <th></th>\n",
       "      <th></th>\n",
       "    </tr>\n",
       "  </thead>\n",
       "  <tbody>\n",
       "    <tr>\n",
       "      <th>AUSTRALIA</th>\n",
       "      <td>2016.06.05.a</td>\n",
       "      <td>28-Jan-63</td>\n",
       "      <td>2016</td>\n",
       "      <td>Unprovoked</td>\n",
       "      <td>F</td>\n",
       "      <td>63</td>\n",
       "      <td>Y</td>\n",
       "      <td>http://sharkattackfile.net/spreadsheets/pdf_di...</td>\n",
       "    </tr>\n",
       "    <tr>\n",
       "      <th>BERMUDA</th>\n",
       "      <td>1959.09.27</td>\n",
       "      <td>27-Sep-59</td>\n",
       "      <td>1959</td>\n",
       "      <td>Invalid</td>\n",
       "      <td>F</td>\n",
       "      <td>29</td>\n",
       "      <td>Y</td>\n",
       "      <td>http://sharkattackfile.net/spreadsheets/pdf_di...</td>\n",
       "    </tr>\n",
       "    <tr>\n",
       "      <th>BRAZIL</th>\n",
       "      <td>2013.07.22</td>\n",
       "      <td>22-Jul-2013</td>\n",
       "      <td>2013</td>\n",
       "      <td>Unprovoked</td>\n",
       "      <td>F</td>\n",
       "      <td>18</td>\n",
       "      <td>Y</td>\n",
       "      <td>http://sharkattackfile.net/spreadsheets/pdf_di...</td>\n",
       "    </tr>\n",
       "    <tr>\n",
       "      <th>CROATIA</th>\n",
       "      <td>1955.08.26</td>\n",
       "      <td>26-Aug-55</td>\n",
       "      <td>1955</td>\n",
       "      <td>Unprovoked</td>\n",
       "      <td>F</td>\n",
       "      <td>32</td>\n",
       "      <td>Y</td>\n",
       "      <td>http://sharkattackfile.net/spreadsheets/pdf_di...</td>\n",
       "    </tr>\n",
       "    <tr>\n",
       "      <th>EGYPT</th>\n",
       "      <td>2010.12.05</td>\n",
       "      <td>05-Dec-10</td>\n",
       "      <td>2010</td>\n",
       "      <td>Unprovoked</td>\n",
       "      <td>F</td>\n",
       "      <td>70</td>\n",
       "      <td>Y</td>\n",
       "      <td>http://sharkattackfile.net/spreadsheets/pdf_di...</td>\n",
       "    </tr>\n",
       "    <tr>\n",
       "      <th>GREECE</th>\n",
       "      <td>1963.06.01.b</td>\n",
       "      <td>1956</td>\n",
       "      <td>1963</td>\n",
       "      <td>Unprovoked</td>\n",
       "      <td>F</td>\n",
       "      <td>42</td>\n",
       "      <td>Y</td>\n",
       "      <td>http://sharkattackfile.net/spreadsheets/pdf_di...</td>\n",
       "    </tr>\n",
       "    <tr>\n",
       "      <th>HONG KONG</th>\n",
       "      <td>1995.06.13</td>\n",
       "      <td>13-Jun-95</td>\n",
       "      <td>1995</td>\n",
       "      <td>Unprovoked</td>\n",
       "      <td>F</td>\n",
       "      <td>65</td>\n",
       "      <td>Y</td>\n",
       "      <td>http://sharkattackfile.net/spreadsheets/pdf_di...</td>\n",
       "    </tr>\n",
       "    <tr>\n",
       "      <th>ITALY</th>\n",
       "      <td>1951.09.29</td>\n",
       "      <td>29-Sep-51</td>\n",
       "      <td>1951</td>\n",
       "      <td>Unprovoked</td>\n",
       "      <td>F</td>\n",
       "      <td>21</td>\n",
       "      <td>Y</td>\n",
       "      <td>http://sharkattackfile.net/spreadsheets/pdf_di...</td>\n",
       "    </tr>\n",
       "    <tr>\n",
       "      <th>MALDIVE ISLANDS</th>\n",
       "      <td>1959.12.00</td>\n",
       "      <td>Dec-59</td>\n",
       "      <td>1959</td>\n",
       "      <td>Sea Disaster</td>\n",
       "      <td>F</td>\n",
       "      <td>3</td>\n",
       "      <td>Y</td>\n",
       "      <td>http://sharkattackfile.net/spreadsheets/pdf_di...</td>\n",
       "    </tr>\n",
       "    <tr>\n",
       "      <th>MEXICO</th>\n",
       "      <td>1993.06.11.a</td>\n",
       "      <td>31-Jul-53</td>\n",
       "      <td>1993</td>\n",
       "      <td>Unprovoked</td>\n",
       "      <td>F</td>\n",
       "      <td>42</td>\n",
       "      <td>Y</td>\n",
       "      <td>http://sharkattackfile.net/spreadsheets/pdf_di...</td>\n",
       "    </tr>\n",
       "    <tr>\n",
       "      <th>MOZAMBIQUE</th>\n",
       "      <td>2015.10.17.c</td>\n",
       "      <td>Ca. 1960</td>\n",
       "      <td>2015</td>\n",
       "      <td>Unprovoked</td>\n",
       "      <td>F</td>\n",
       "      <td>35</td>\n",
       "      <td>Y</td>\n",
       "      <td>http://sharkattackfile.net/spreadsheets/pdf_di...</td>\n",
       "    </tr>\n",
       "    <tr>\n",
       "      <th>NEW BRITAIN</th>\n",
       "      <td>1966.08.21.b</td>\n",
       "      <td>23-Aug-66</td>\n",
       "      <td>1966</td>\n",
       "      <td>Unprovoked</td>\n",
       "      <td>F</td>\n",
       "      <td>13</td>\n",
       "      <td>Y</td>\n",
       "      <td>http://sharkattackfile.net/spreadsheets/pdf_di...</td>\n",
       "    </tr>\n",
       "    <tr>\n",
       "      <th>NEW CALEDONIA</th>\n",
       "      <td>2016.04.09</td>\n",
       "      <td>30-Sep-07</td>\n",
       "      <td>2016</td>\n",
       "      <td>Unprovoked</td>\n",
       "      <td>F</td>\n",
       "      <td>69</td>\n",
       "      <td>Y</td>\n",
       "      <td>http://sharkattackfile.net/spreadsheets/pdf_di...</td>\n",
       "    </tr>\n",
       "    <tr>\n",
       "      <th>NEW ZEALAND</th>\n",
       "      <td>1966.01.08</td>\n",
       "      <td>08-Jan-66</td>\n",
       "      <td>1966</td>\n",
       "      <td>Unprovoked</td>\n",
       "      <td>F</td>\n",
       "      <td>15</td>\n",
       "      <td>Y</td>\n",
       "      <td>http://sharkattackfile.net/spreadsheets/pdf_di...</td>\n",
       "    </tr>\n",
       "    <tr>\n",
       "      <th>PAPUA NEW GUINEA</th>\n",
       "      <td>1966.11.00</td>\n",
       "      <td>Early Nov-1966</td>\n",
       "      <td>1966</td>\n",
       "      <td>Unprovoked</td>\n",
       "      <td>F</td>\n",
       "      <td>25</td>\n",
       "      <td>Y</td>\n",
       "      <td>http://sharkattackfile.net/spreadsheets/pdf_di...</td>\n",
       "    </tr>\n",
       "    <tr>\n",
       "      <th>REUNION</th>\n",
       "      <td>2015.02.14</td>\n",
       "      <td>15-Jul-13</td>\n",
       "      <td>2015</td>\n",
       "      <td>Unprovoked</td>\n",
       "      <td>F</td>\n",
       "      <td>22</td>\n",
       "      <td>Y</td>\n",
       "      <td>http://sharkattackfile.net/spreadsheets/pdf_di...</td>\n",
       "    </tr>\n",
       "    <tr>\n",
       "      <th>SOLOMON ISLANDS</th>\n",
       "      <td>1957.10.23</td>\n",
       "      <td>23-Oct-57</td>\n",
       "      <td>1957</td>\n",
       "      <td>Unprovoked</td>\n",
       "      <td>F</td>\n",
       "      <td>28</td>\n",
       "      <td>Y</td>\n",
       "      <td>http://sharkattackfile.net/spreadsheets/pdf_di...</td>\n",
       "    </tr>\n",
       "    <tr>\n",
       "      <th>SOUTH AFRICA</th>\n",
       "      <td>2004.11.15</td>\n",
       "      <td>24-Jun-90</td>\n",
       "      <td>2004</td>\n",
       "      <td>Unprovoked</td>\n",
       "      <td>F</td>\n",
       "      <td>77</td>\n",
       "      <td>Y</td>\n",
       "      <td>http://sharkattackfile.net/spreadsheets/pdf_di...</td>\n",
       "    </tr>\n",
       "    <tr>\n",
       "      <th>SOUTH KOREA</th>\n",
       "      <td>1995.05.12</td>\n",
       "      <td>27-May-88</td>\n",
       "      <td>1995</td>\n",
       "      <td>Unprovoked</td>\n",
       "      <td>F</td>\n",
       "      <td>44</td>\n",
       "      <td>Y</td>\n",
       "      <td>http://sharkattackfile.net/spreadsheets/pdf_di...</td>\n",
       "    </tr>\n",
       "    <tr>\n",
       "      <th>TONGA</th>\n",
       "      <td>2006.02.01.b</td>\n",
       "      <td>01-Feb-06</td>\n",
       "      <td>2006</td>\n",
       "      <td>Unprovoked</td>\n",
       "      <td>F</td>\n",
       "      <td>24</td>\n",
       "      <td>Y</td>\n",
       "      <td>http://sharkattackfile.net/spreadsheets/pdf_di...</td>\n",
       "    </tr>\n",
       "    <tr>\n",
       "      <th>USA</th>\n",
       "      <td>2015.04.29</td>\n",
       "      <td>Reported 16-Apr-1994</td>\n",
       "      <td>2015</td>\n",
       "      <td>Unprovoked</td>\n",
       "      <td>F</td>\n",
       "      <td>75</td>\n",
       "      <td>Y</td>\n",
       "      <td>http://sharkattackfile.net/spreadsheets/pdf_di...</td>\n",
       "    </tr>\n",
       "    <tr>\n",
       "      <th>VANUATU</th>\n",
       "      <td>2005.06.22</td>\n",
       "      <td>22-Jun-05</td>\n",
       "      <td>2005</td>\n",
       "      <td>Unprovoked</td>\n",
       "      <td>F</td>\n",
       "      <td>7</td>\n",
       "      <td>Y</td>\n",
       "      <td>http://sharkattackfile.net/spreadsheets/pdf_di...</td>\n",
       "    </tr>\n",
       "  </tbody>\n",
       "</table>\n",
       "</div>"
      ],
      "text/plain": [
       "                   Case Number                  Date  Year          Type Sex  \\\n",
       "Country                                                                        \n",
       "AUSTRALIA         2016.06.05.a             28-Jan-63  2016    Unprovoked   F   \n",
       "BERMUDA             1959.09.27             27-Sep-59  1959       Invalid   F   \n",
       "BRAZIL              2013.07.22           22-Jul-2013  2013    Unprovoked   F   \n",
       "CROATIA             1955.08.26             26-Aug-55  1955    Unprovoked   F   \n",
       "EGYPT               2010.12.05             05-Dec-10  2010    Unprovoked   F   \n",
       "GREECE            1963.06.01.b                  1956  1963    Unprovoked   F   \n",
       "HONG KONG           1995.06.13             13-Jun-95  1995    Unprovoked   F   \n",
       "ITALY               1951.09.29             29-Sep-51  1951    Unprovoked   F   \n",
       "MALDIVE ISLANDS     1959.12.00                Dec-59  1959  Sea Disaster   F   \n",
       "MEXICO            1993.06.11.a             31-Jul-53  1993    Unprovoked   F   \n",
       "MOZAMBIQUE        2015.10.17.c              Ca. 1960  2015    Unprovoked   F   \n",
       "NEW BRITAIN       1966.08.21.b             23-Aug-66  1966    Unprovoked   F   \n",
       "NEW CALEDONIA       2016.04.09             30-Sep-07  2016    Unprovoked   F   \n",
       "NEW ZEALAND         1966.01.08             08-Jan-66  1966    Unprovoked   F   \n",
       "PAPUA NEW GUINEA    1966.11.00        Early Nov-1966  1966    Unprovoked   F   \n",
       "REUNION             2015.02.14             15-Jul-13  2015    Unprovoked   F   \n",
       "SOLOMON ISLANDS     1957.10.23             23-Oct-57  1957    Unprovoked   F   \n",
       "SOUTH AFRICA        2004.11.15             24-Jun-90  2004    Unprovoked   F   \n",
       "SOUTH KOREA         1995.05.12             27-May-88  1995    Unprovoked   F   \n",
       "TONGA             2006.02.01.b             01-Feb-06  2006    Unprovoked   F   \n",
       "USA                 2015.04.29  Reported 16-Apr-1994  2015    Unprovoked   F   \n",
       "VANUATU             2005.06.22             22-Jun-05  2005    Unprovoked   F   \n",
       "\n",
       "                  Age Fatal                                       href formula  \n",
       "Country                                                                         \n",
       "AUSTRALIA          63     Y  http://sharkattackfile.net/spreadsheets/pdf_di...  \n",
       "BERMUDA            29     Y  http://sharkattackfile.net/spreadsheets/pdf_di...  \n",
       "BRAZIL             18     Y  http://sharkattackfile.net/spreadsheets/pdf_di...  \n",
       "CROATIA            32     Y  http://sharkattackfile.net/spreadsheets/pdf_di...  \n",
       "EGYPT              70     Y  http://sharkattackfile.net/spreadsheets/pdf_di...  \n",
       "GREECE             42     Y  http://sharkattackfile.net/spreadsheets/pdf_di...  \n",
       "HONG KONG          65     Y  http://sharkattackfile.net/spreadsheets/pdf_di...  \n",
       "ITALY              21     Y  http://sharkattackfile.net/spreadsheets/pdf_di...  \n",
       "MALDIVE ISLANDS     3     Y  http://sharkattackfile.net/spreadsheets/pdf_di...  \n",
       "MEXICO             42     Y  http://sharkattackfile.net/spreadsheets/pdf_di...  \n",
       "MOZAMBIQUE         35     Y  http://sharkattackfile.net/spreadsheets/pdf_di...  \n",
       "NEW BRITAIN        13     Y  http://sharkattackfile.net/spreadsheets/pdf_di...  \n",
       "NEW CALEDONIA      69     Y  http://sharkattackfile.net/spreadsheets/pdf_di...  \n",
       "NEW ZEALAND        15     Y  http://sharkattackfile.net/spreadsheets/pdf_di...  \n",
       "PAPUA NEW GUINEA   25     Y  http://sharkattackfile.net/spreadsheets/pdf_di...  \n",
       "REUNION            22     Y  http://sharkattackfile.net/spreadsheets/pdf_di...  \n",
       "SOLOMON ISLANDS    28     Y  http://sharkattackfile.net/spreadsheets/pdf_di...  \n",
       "SOUTH AFRICA       77     Y  http://sharkattackfile.net/spreadsheets/pdf_di...  \n",
       "SOUTH KOREA        44     Y  http://sharkattackfile.net/spreadsheets/pdf_di...  \n",
       "TONGA              24     Y  http://sharkattackfile.net/spreadsheets/pdf_di...  \n",
       "USA                75     Y  http://sharkattackfile.net/spreadsheets/pdf_di...  \n",
       "VANUATU             7     Y  http://sharkattackfile.net/spreadsheets/pdf_di...  "
      ]
     },
     "execution_count": 223,
     "metadata": {},
     "output_type": "execute_result"
    }
   ],
   "source": [
    "#Cuantas mujeres han muerto en ataques\n",
    "filtered = df[(df['Sex']=='F') & (df['Fatal']>='Y')]\n",
    "filtered.groupby(['Country']).max()"
   ]
  },
  {
   "cell_type": "code",
   "execution_count": 226,
   "metadata": {},
   "outputs": [],
   "source": [
    "#Mi hipotesis se va a relacionar por el país por lo que me creo un DataFrame que recoja los datos que quiero por paises\n",
    "df['count'] = df.groupby('Country')['Country'].transform('count')\n",
    "df = df.rename(columns={'count':'Attacks'})\n",
    "df2 = df[['Attacks', 'Country']]"
   ]
  },
  {
   "cell_type": "code",
   "execution_count": 227,
   "metadata": {},
   "outputs": [
    {
     "data": {
      "text/html": [
       "<div>\n",
       "<style scoped>\n",
       "    .dataframe tbody tr th:only-of-type {\n",
       "        vertical-align: middle;\n",
       "    }\n",
       "\n",
       "    .dataframe tbody tr th {\n",
       "        vertical-align: top;\n",
       "    }\n",
       "\n",
       "    .dataframe thead th {\n",
       "        text-align: right;\n",
       "    }\n",
       "</style>\n",
       "<table border=\"1\" class=\"dataframe\">\n",
       "  <thead>\n",
       "    <tr style=\"text-align: right;\">\n",
       "      <th></th>\n",
       "      <th>Attacks</th>\n",
       "      <th>Attacks</th>\n",
       "    </tr>\n",
       "    <tr>\n",
       "      <th>Country</th>\n",
       "      <th></th>\n",
       "      <th></th>\n",
       "    </tr>\n",
       "  </thead>\n",
       "  <tbody>\n",
       "    <tr>\n",
       "      <th>ADMIRALTY ISLANDS</th>\n",
       "      <td>1</td>\n",
       "      <td>1</td>\n",
       "    </tr>\n",
       "    <tr>\n",
       "      <th>AMERICAN SAMOA</th>\n",
       "      <td>3</td>\n",
       "      <td>3</td>\n",
       "    </tr>\n",
       "    <tr>\n",
       "      <th>ANDAMAN / NICOBAR ISLANDAS</th>\n",
       "      <td>1</td>\n",
       "      <td>1</td>\n",
       "    </tr>\n",
       "    <tr>\n",
       "      <th>ARGENTINA</th>\n",
       "      <td>1</td>\n",
       "      <td>1</td>\n",
       "    </tr>\n",
       "    <tr>\n",
       "      <th>ARUBA</th>\n",
       "      <td>1</td>\n",
       "      <td>1</td>\n",
       "    </tr>\n",
       "    <tr>\n",
       "      <th>...</th>\n",
       "      <td>...</td>\n",
       "      <td>...</td>\n",
       "    </tr>\n",
       "    <tr>\n",
       "      <th>USA</th>\n",
       "      <td>1349</td>\n",
       "      <td>1349</td>\n",
       "    </tr>\n",
       "    <tr>\n",
       "      <th>VANUATU</th>\n",
       "      <td>5</td>\n",
       "      <td>5</td>\n",
       "    </tr>\n",
       "    <tr>\n",
       "      <th>VENEZUELA</th>\n",
       "      <td>4</td>\n",
       "      <td>4</td>\n",
       "    </tr>\n",
       "    <tr>\n",
       "      <th>VIETNAM</th>\n",
       "      <td>5</td>\n",
       "      <td>5</td>\n",
       "    </tr>\n",
       "    <tr>\n",
       "      <th>WESTERN SAMOA</th>\n",
       "      <td>1</td>\n",
       "      <td>1</td>\n",
       "    </tr>\n",
       "  </tbody>\n",
       "</table>\n",
       "<p>110 rows × 2 columns</p>\n",
       "</div>"
      ],
      "text/plain": [
       "                            Attacks  Attacks\n",
       "Country                                     \n",
       "ADMIRALTY ISLANDS                 1        1\n",
       "AMERICAN SAMOA                    3        3\n",
       "ANDAMAN / NICOBAR ISLANDAS        1        1\n",
       "ARGENTINA                         1        1\n",
       "ARUBA                             1        1\n",
       "...                             ...      ...\n",
       "USA                            1349     1349\n",
       "VANUATU                           5        5\n",
       "VENEZUELA                         4        4\n",
       "VIETNAM                           5        5\n",
       "WESTERN SAMOA                     1        1\n",
       "\n",
       "[110 rows x 2 columns]"
      ]
     },
     "execution_count": 227,
     "metadata": {},
     "output_type": "execute_result"
    }
   ],
   "source": [
    "z = df2.groupby(['Country']).mean().sort_index(ascending=True)\n",
    "z"
   ]
  },
  {
   "cell_type": "code",
   "execution_count": 228,
   "metadata": {},
   "outputs": [
    {
     "data": {
      "text/html": [
       "<div>\n",
       "<style scoped>\n",
       "    .dataframe tbody tr th:only-of-type {\n",
       "        vertical-align: middle;\n",
       "    }\n",
       "\n",
       "    .dataframe tbody tr th {\n",
       "        vertical-align: top;\n",
       "    }\n",
       "\n",
       "    .dataframe thead th {\n",
       "        text-align: right;\n",
       "    }\n",
       "</style>\n",
       "<table border=\"1\" class=\"dataframe\">\n",
       "  <thead>\n",
       "    <tr style=\"text-align: right;\">\n",
       "      <th></th>\n",
       "      <th>Type</th>\n",
       "    </tr>\n",
       "    <tr>\n",
       "      <th>Country</th>\n",
       "      <th></th>\n",
       "    </tr>\n",
       "  </thead>\n",
       "  <tbody>\n",
       "    <tr>\n",
       "      <th>ADMIRALTY ISLANDS</th>\n",
       "      <td>Unprovoked</td>\n",
       "    </tr>\n",
       "    <tr>\n",
       "      <th>AMERICAN SAMOA</th>\n",
       "      <td>Unprovoked</td>\n",
       "    </tr>\n",
       "    <tr>\n",
       "      <th>ANDAMAN / NICOBAR ISLANDAS</th>\n",
       "      <td>Unprovoked</td>\n",
       "    </tr>\n",
       "    <tr>\n",
       "      <th>ARGENTINA</th>\n",
       "      <td>Unprovoked</td>\n",
       "    </tr>\n",
       "    <tr>\n",
       "      <th>ARUBA</th>\n",
       "      <td>Unprovoked</td>\n",
       "    </tr>\n",
       "    <tr>\n",
       "      <th>...</th>\n",
       "      <td>...</td>\n",
       "    </tr>\n",
       "    <tr>\n",
       "      <th>USA</th>\n",
       "      <td>Unprovoked</td>\n",
       "    </tr>\n",
       "    <tr>\n",
       "      <th>VANUATU</th>\n",
       "      <td>Unprovoked</td>\n",
       "    </tr>\n",
       "    <tr>\n",
       "      <th>VENEZUELA</th>\n",
       "      <td>Unprovoked</td>\n",
       "    </tr>\n",
       "    <tr>\n",
       "      <th>VIETNAM</th>\n",
       "      <td>Unprovoked</td>\n",
       "    </tr>\n",
       "    <tr>\n",
       "      <th>WESTERN SAMOA</th>\n",
       "      <td>Unprovoked</td>\n",
       "    </tr>\n",
       "  </tbody>\n",
       "</table>\n",
       "<p>110 rows × 1 columns</p>\n",
       "</div>"
      ],
      "text/plain": [
       "                                  Type\n",
       "Country                               \n",
       "ADMIRALTY ISLANDS           Unprovoked\n",
       "AMERICAN SAMOA              Unprovoked\n",
       "ANDAMAN / NICOBAR ISLANDAS  Unprovoked\n",
       "ARGENTINA                   Unprovoked\n",
       "ARUBA                       Unprovoked\n",
       "...                                ...\n",
       "USA                         Unprovoked\n",
       "VANUATU                     Unprovoked\n",
       "VENEZUELA                   Unprovoked\n",
       "VIETNAM                     Unprovoked\n",
       "WESTERN SAMOA               Unprovoked\n",
       "\n",
       "[110 rows x 1 columns]"
      ]
     },
     "execution_count": 228,
     "metadata": {},
     "output_type": "execute_result"
    }
   ],
   "source": [
    "df3 = df[['Type', 'Country']]\n",
    "df3.groupby(['Country']).max()\n"
   ]
  },
  {
   "cell_type": "code",
   "execution_count": 229,
   "metadata": {},
   "outputs": [
    {
     "name": "stdout",
     "output_type": "stream",
     "text": [
      "{nan, 'M', 'F'}\n"
     ]
    },
    {
     "data": {
      "text/html": [
       "<div>\n",
       "<style scoped>\n",
       "    .dataframe tbody tr th:only-of-type {\n",
       "        vertical-align: middle;\n",
       "    }\n",
       "\n",
       "    .dataframe tbody tr th {\n",
       "        vertical-align: top;\n",
       "    }\n",
       "\n",
       "    .dataframe thead th {\n",
       "        text-align: right;\n",
       "    }\n",
       "</style>\n",
       "<table border=\"1\" class=\"dataframe\">\n",
       "  <thead>\n",
       "    <tr style=\"text-align: right;\">\n",
       "      <th></th>\n",
       "      <th>Sex</th>\n",
       "    </tr>\n",
       "    <tr>\n",
       "      <th>Country</th>\n",
       "      <th></th>\n",
       "    </tr>\n",
       "  </thead>\n",
       "  <tbody>\n",
       "    <tr>\n",
       "      <th>ADMIRALTY ISLANDS</th>\n",
       "      <td>M</td>\n",
       "    </tr>\n",
       "    <tr>\n",
       "      <th>AMERICAN SAMOA</th>\n",
       "      <td>M</td>\n",
       "    </tr>\n",
       "    <tr>\n",
       "      <th>ANDAMAN / NICOBAR ISLANDAS</th>\n",
       "      <td>M</td>\n",
       "    </tr>\n",
       "    <tr>\n",
       "      <th>ARGENTINA</th>\n",
       "      <td>M</td>\n",
       "    </tr>\n",
       "    <tr>\n",
       "      <th>ARUBA</th>\n",
       "      <td>M</td>\n",
       "    </tr>\n",
       "    <tr>\n",
       "      <th>...</th>\n",
       "      <td>...</td>\n",
       "    </tr>\n",
       "    <tr>\n",
       "      <th>USA</th>\n",
       "      <td>NaN</td>\n",
       "    </tr>\n",
       "    <tr>\n",
       "      <th>VANUATU</th>\n",
       "      <td>M</td>\n",
       "    </tr>\n",
       "    <tr>\n",
       "      <th>VENEZUELA</th>\n",
       "      <td>M</td>\n",
       "    </tr>\n",
       "    <tr>\n",
       "      <th>VIETNAM</th>\n",
       "      <td>M</td>\n",
       "    </tr>\n",
       "    <tr>\n",
       "      <th>WESTERN SAMOA</th>\n",
       "      <td>M</td>\n",
       "    </tr>\n",
       "  </tbody>\n",
       "</table>\n",
       "<p>110 rows × 1 columns</p>\n",
       "</div>"
      ],
      "text/plain": [
       "                            Sex\n",
       "Country                        \n",
       "ADMIRALTY ISLANDS             M\n",
       "AMERICAN SAMOA                M\n",
       "ANDAMAN / NICOBAR ISLANDAS    M\n",
       "ARGENTINA                     M\n",
       "ARUBA                         M\n",
       "...                         ...\n",
       "USA                         NaN\n",
       "VANUATU                       M\n",
       "VENEZUELA                     M\n",
       "VIETNAM                       M\n",
       "WESTERN SAMOA                 M\n",
       "\n",
       "[110 rows x 1 columns]"
      ]
     },
     "execution_count": 229,
     "metadata": {},
     "output_type": "execute_result"
    }
   ],
   "source": [
    "print(set(df['Sex']))\n",
    "df5 = df[['Sex', 'Country']]\n",
    "#df5 = df5.dropna()\n",
    "df5.groupby(['Country']).max()"
   ]
  },
  {
   "cell_type": "code",
   "execution_count": 230,
   "metadata": {},
   "outputs": [
    {
     "data": {
      "text/html": [
       "<div>\n",
       "<style scoped>\n",
       "    .dataframe tbody tr th:only-of-type {\n",
       "        vertical-align: middle;\n",
       "    }\n",
       "\n",
       "    .dataframe tbody tr th {\n",
       "        vertical-align: top;\n",
       "    }\n",
       "\n",
       "    .dataframe thead th {\n",
       "        text-align: right;\n",
       "    }\n",
       "</style>\n",
       "<table border=\"1\" class=\"dataframe\">\n",
       "  <thead>\n",
       "    <tr style=\"text-align: right;\">\n",
       "      <th></th>\n",
       "      <th>Age</th>\n",
       "    </tr>\n",
       "    <tr>\n",
       "      <th>Country</th>\n",
       "      <th></th>\n",
       "    </tr>\n",
       "  </thead>\n",
       "  <tbody>\n",
       "    <tr>\n",
       "      <th>ADMIRALTY ISLANDS</th>\n",
       "      <td>26</td>\n",
       "    </tr>\n",
       "    <tr>\n",
       "      <th>AMERICAN SAMOA</th>\n",
       "      <td>26</td>\n",
       "    </tr>\n",
       "    <tr>\n",
       "      <th>ANDAMAN / NICOBAR ISLANDAS</th>\n",
       "      <td>32</td>\n",
       "    </tr>\n",
       "    <tr>\n",
       "      <th>ARGENTINA</th>\n",
       "      <td>18</td>\n",
       "    </tr>\n",
       "    <tr>\n",
       "      <th>ARUBA</th>\n",
       "      <td>58</td>\n",
       "    </tr>\n",
       "    <tr>\n",
       "      <th>...</th>\n",
       "      <td>...</td>\n",
       "    </tr>\n",
       "    <tr>\n",
       "      <th>USA</th>\n",
       "      <td>27</td>\n",
       "    </tr>\n",
       "    <tr>\n",
       "      <th>VANUATU</th>\n",
       "      <td>17</td>\n",
       "    </tr>\n",
       "    <tr>\n",
       "      <th>VENEZUELA</th>\n",
       "      <td>37</td>\n",
       "    </tr>\n",
       "    <tr>\n",
       "      <th>VIETNAM</th>\n",
       "      <td>47</td>\n",
       "    </tr>\n",
       "    <tr>\n",
       "      <th>WESTERN SAMOA</th>\n",
       "      <td>25</td>\n",
       "    </tr>\n",
       "  </tbody>\n",
       "</table>\n",
       "<p>110 rows × 1 columns</p>\n",
       "</div>"
      ],
      "text/plain": [
       "                            Age\n",
       "Country                        \n",
       "ADMIRALTY ISLANDS            26\n",
       "AMERICAN SAMOA               26\n",
       "ANDAMAN / NICOBAR ISLANDAS   32\n",
       "ARGENTINA                    18\n",
       "ARUBA                        58\n",
       "...                         ...\n",
       "USA                          27\n",
       "VANUATU                      17\n",
       "VENEZUELA                    37\n",
       "VIETNAM                      47\n",
       "WESTERN SAMOA                25\n",
       "\n",
       "[110 rows x 1 columns]"
      ]
     },
     "execution_count": 230,
     "metadata": {},
     "output_type": "execute_result"
    }
   ],
   "source": [
    "pd.set_option('precision', 0)\n",
    "dfAge = df[['Age', 'Country']]\n",
    "dfAge.groupby(['Country']).mean()"
   ]
  },
  {
   "cell_type": "code",
   "execution_count": 231,
   "metadata": {},
   "outputs": [
    {
     "data": {
      "text/html": [
       "<div>\n",
       "<style scoped>\n",
       "    .dataframe tbody tr th:only-of-type {\n",
       "        vertical-align: middle;\n",
       "    }\n",
       "\n",
       "    .dataframe tbody tr th {\n",
       "        vertical-align: top;\n",
       "    }\n",
       "\n",
       "    .dataframe thead th {\n",
       "        text-align: right;\n",
       "    }\n",
       "</style>\n",
       "<table border=\"1\" class=\"dataframe\">\n",
       "  <thead>\n",
       "    <tr style=\"text-align: right;\">\n",
       "      <th></th>\n",
       "      <th>Fatal</th>\n",
       "    </tr>\n",
       "    <tr>\n",
       "      <th>Country</th>\n",
       "      <th></th>\n",
       "    </tr>\n",
       "  </thead>\n",
       "  <tbody>\n",
       "    <tr>\n",
       "      <th>ADMIRALTY ISLANDS</th>\n",
       "      <td>N</td>\n",
       "    </tr>\n",
       "    <tr>\n",
       "      <th>AMERICAN SAMOA</th>\n",
       "      <td>Y</td>\n",
       "    </tr>\n",
       "    <tr>\n",
       "      <th>ANDAMAN / NICOBAR ISLANDAS</th>\n",
       "      <td>Y</td>\n",
       "    </tr>\n",
       "    <tr>\n",
       "      <th>ARGENTINA</th>\n",
       "      <td>N</td>\n",
       "    </tr>\n",
       "    <tr>\n",
       "      <th>ARUBA</th>\n",
       "      <td>Y</td>\n",
       "    </tr>\n",
       "    <tr>\n",
       "      <th>...</th>\n",
       "      <td>...</td>\n",
       "    </tr>\n",
       "    <tr>\n",
       "      <th>USA</th>\n",
       "      <td>Y</td>\n",
       "    </tr>\n",
       "    <tr>\n",
       "      <th>VANUATU</th>\n",
       "      <td>Y</td>\n",
       "    </tr>\n",
       "    <tr>\n",
       "      <th>VENEZUELA</th>\n",
       "      <td>Y</td>\n",
       "    </tr>\n",
       "    <tr>\n",
       "      <th>VIETNAM</th>\n",
       "      <td>N</td>\n",
       "    </tr>\n",
       "    <tr>\n",
       "      <th>WESTERN SAMOA</th>\n",
       "      <td>Y</td>\n",
       "    </tr>\n",
       "  </tbody>\n",
       "</table>\n",
       "<p>110 rows × 1 columns</p>\n",
       "</div>"
      ],
      "text/plain": [
       "                           Fatal\n",
       "Country                         \n",
       "ADMIRALTY ISLANDS              N\n",
       "AMERICAN SAMOA                 Y\n",
       "ANDAMAN / NICOBAR ISLANDAS     Y\n",
       "ARGENTINA                      N\n",
       "ARUBA                          Y\n",
       "...                          ...\n",
       "USA                            Y\n",
       "VANUATU                        Y\n",
       "VENEZUELA                      Y\n",
       "VIETNAM                        N\n",
       "WESTERN SAMOA                  Y\n",
       "\n",
       "[110 rows x 1 columns]"
      ]
     },
     "execution_count": 231,
     "metadata": {},
     "output_type": "execute_result"
    }
   ],
   "source": [
    "df6 = df[['Fatal', 'Country']]\n",
    "df6.groupby(['Country']).max()"
   ]
  },
  {
   "cell_type": "code",
   "execution_count": 232,
   "metadata": {},
   "outputs": [
    {
     "data": {
      "text/html": [
       "<div>\n",
       "<style scoped>\n",
       "    .dataframe tbody tr th:only-of-type {\n",
       "        vertical-align: middle;\n",
       "    }\n",
       "\n",
       "    .dataframe tbody tr th {\n",
       "        vertical-align: top;\n",
       "    }\n",
       "\n",
       "    .dataframe thead th {\n",
       "        text-align: right;\n",
       "    }\n",
       "</style>\n",
       "<table border=\"1\" class=\"dataframe\">\n",
       "  <thead>\n",
       "    <tr style=\"text-align: right;\">\n",
       "      <th></th>\n",
       "      <th>Year</th>\n",
       "    </tr>\n",
       "    <tr>\n",
       "      <th>Country</th>\n",
       "      <th></th>\n",
       "    </tr>\n",
       "  </thead>\n",
       "  <tbody>\n",
       "    <tr>\n",
       "      <th>ADMIRALTY ISLANDS</th>\n",
       "      <td>1962</td>\n",
       "    </tr>\n",
       "    <tr>\n",
       "      <th>AMERICAN SAMOA</th>\n",
       "      <td>1958</td>\n",
       "    </tr>\n",
       "    <tr>\n",
       "      <th>ANDAMAN / NICOBAR ISLANDAS</th>\n",
       "      <td>1958</td>\n",
       "    </tr>\n",
       "    <tr>\n",
       "      <th>ARGENTINA</th>\n",
       "      <td>1954</td>\n",
       "    </tr>\n",
       "    <tr>\n",
       "      <th>ARUBA</th>\n",
       "      <td>2015</td>\n",
       "    </tr>\n",
       "    <tr>\n",
       "      <th>...</th>\n",
       "      <td>...</td>\n",
       "    </tr>\n",
       "    <tr>\n",
       "      <th>USA</th>\n",
       "      <td>2016</td>\n",
       "    </tr>\n",
       "    <tr>\n",
       "      <th>VANUATU</th>\n",
       "      <td>2005</td>\n",
       "    </tr>\n",
       "    <tr>\n",
       "      <th>VENEZUELA</th>\n",
       "      <td>2004</td>\n",
       "    </tr>\n",
       "    <tr>\n",
       "      <th>VIETNAM</th>\n",
       "      <td>2010</td>\n",
       "    </tr>\n",
       "    <tr>\n",
       "      <th>WESTERN SAMOA</th>\n",
       "      <td>1972</td>\n",
       "    </tr>\n",
       "  </tbody>\n",
       "</table>\n",
       "<p>110 rows × 1 columns</p>\n",
       "</div>"
      ],
      "text/plain": [
       "                            Year\n",
       "Country                         \n",
       "ADMIRALTY ISLANDS           1962\n",
       "AMERICAN SAMOA              1958\n",
       "ANDAMAN / NICOBAR ISLANDAS  1958\n",
       "ARGENTINA                   1954\n",
       "ARUBA                       2015\n",
       "...                          ...\n",
       "USA                         2016\n",
       "VANUATU                     2005\n",
       "VENEZUELA                   2004\n",
       "VIETNAM                     2010\n",
       "WESTERN SAMOA               1972\n",
       "\n",
       "[110 rows x 1 columns]"
      ]
     },
     "execution_count": 232,
     "metadata": {},
     "output_type": "execute_result"
    }
   ],
   "source": [
    "df7 = df[['Year', 'Country']]\n",
    "df7.groupby(['Country']).max()"
   ]
  },
  {
   "cell_type": "code",
   "execution_count": 233,
   "metadata": {},
   "outputs": [],
   "source": [
    "#Por qué no me funciona esto?\n",
    "#df3 = df.drop(df[(df['Date']!='[0-9]+.[A-Z][a-z]+.[0-9]+')].index)\n",
    "#df3\n",
    "#a = str(df['Date'])\n",
    "#print(re.findall(\"[0-9]+.[A-Z][a-z]+.[0-9]+\", a))"
   ]
  },
  {
   "cell_type": "code",
   "execution_count": 234,
   "metadata": {},
   "outputs": [
    {
     "data": {
      "text/html": [
       "<div>\n",
       "<style scoped>\n",
       "    .dataframe tbody tr th:only-of-type {\n",
       "        vertical-align: middle;\n",
       "    }\n",
       "\n",
       "    .dataframe tbody tr th {\n",
       "        vertical-align: top;\n",
       "    }\n",
       "\n",
       "    .dataframe thead th {\n",
       "        text-align: right;\n",
       "    }\n",
       "</style>\n",
       "<table border=\"1\" class=\"dataframe\">\n",
       "  <thead>\n",
       "    <tr style=\"text-align: right;\">\n",
       "      <th></th>\n",
       "      <th>Attacks</th>\n",
       "      <th>Country</th>\n",
       "      <th>Type</th>\n",
       "      <th>Sex</th>\n",
       "      <th>Age</th>\n",
       "      <th>Fatal</th>\n",
       "      <th>Year</th>\n",
       "    </tr>\n",
       "  </thead>\n",
       "  <tbody>\n",
       "    <tr>\n",
       "      <th>0</th>\n",
       "      <td>1e+03</td>\n",
       "      <td>USA</td>\n",
       "      <td>Unprovoked</td>\n",
       "      <td>M</td>\n",
       "      <td>16</td>\n",
       "      <td>N</td>\n",
       "      <td>2016</td>\n",
       "    </tr>\n",
       "    <tr>\n",
       "      <th>1</th>\n",
       "      <td>1e+03</td>\n",
       "      <td>USA</td>\n",
       "      <td>Unprovoked</td>\n",
       "      <td>M</td>\n",
       "      <td>36</td>\n",
       "      <td>N</td>\n",
       "      <td>2016</td>\n",
       "    </tr>\n",
       "    <tr>\n",
       "      <th>2</th>\n",
       "      <td>1e+03</td>\n",
       "      <td>USA</td>\n",
       "      <td>Unprovoked</td>\n",
       "      <td>M</td>\n",
       "      <td>43</td>\n",
       "      <td>N</td>\n",
       "      <td>2016</td>\n",
       "    </tr>\n",
       "    <tr>\n",
       "      <th>6</th>\n",
       "      <td>1e+03</td>\n",
       "      <td>USA</td>\n",
       "      <td>Unprovoked</td>\n",
       "      <td>M</td>\n",
       "      <td>60</td>\n",
       "      <td>N</td>\n",
       "      <td>2016</td>\n",
       "    </tr>\n",
       "    <tr>\n",
       "      <th>7</th>\n",
       "      <td>1e+03</td>\n",
       "      <td>USA</td>\n",
       "      <td>Unprovoked</td>\n",
       "      <td>F</td>\n",
       "      <td>51</td>\n",
       "      <td>N</td>\n",
       "      <td>2016</td>\n",
       "    </tr>\n",
       "    <tr>\n",
       "      <th>...</th>\n",
       "      <td>...</td>\n",
       "      <td>...</td>\n",
       "      <td>...</td>\n",
       "      <td>...</td>\n",
       "      <td>...</td>\n",
       "      <td>...</td>\n",
       "      <td>...</td>\n",
       "    </tr>\n",
       "    <tr>\n",
       "      <th>4247</th>\n",
       "      <td>3e+02</td>\n",
       "      <td>SOUTH AFRICA</td>\n",
       "      <td>Unprovoked</td>\n",
       "      <td>M</td>\n",
       "      <td>27</td>\n",
       "      <td>N</td>\n",
       "      <td>1950</td>\n",
       "    </tr>\n",
       "    <tr>\n",
       "      <th>4249</th>\n",
       "      <td>5e+02</td>\n",
       "      <td>AUSTRALIA</td>\n",
       "      <td>Sea Disaster</td>\n",
       "      <td>M</td>\n",
       "      <td>50</td>\n",
       "      <td>Y</td>\n",
       "      <td>1950</td>\n",
       "    </tr>\n",
       "    <tr>\n",
       "      <th>4252</th>\n",
       "      <td>3e+02</td>\n",
       "      <td>SOUTH AFRICA</td>\n",
       "      <td>Unprovoked</td>\n",
       "      <td>M</td>\n",
       "      <td>20</td>\n",
       "      <td>Y</td>\n",
       "      <td>1950</td>\n",
       "    </tr>\n",
       "    <tr>\n",
       "      <th>4255</th>\n",
       "      <td>3e+02</td>\n",
       "      <td>SOUTH AFRICA</td>\n",
       "      <td>Unprovoked</td>\n",
       "      <td>M</td>\n",
       "      <td>14</td>\n",
       "      <td>Y</td>\n",
       "      <td>1950</td>\n",
       "    </tr>\n",
       "    <tr>\n",
       "      <th>4262</th>\n",
       "      <td>3</td>\n",
       "      <td>INDONESIA</td>\n",
       "      <td>Unprovoked</td>\n",
       "      <td>M</td>\n",
       "      <td>78</td>\n",
       "      <td>Y</td>\n",
       "      <td>1950</td>\n",
       "    </tr>\n",
       "  </tbody>\n",
       "</table>\n",
       "<p>2823 rows × 7 columns</p>\n",
       "</div>"
      ],
      "text/plain": [
       "     Attacks       Country          Type Sex Age Fatal  Year\n",
       "0      1e+03           USA    Unprovoked   M  16     N  2016\n",
       "1      1e+03           USA    Unprovoked   M  36     N  2016\n",
       "2      1e+03           USA    Unprovoked   M  43     N  2016\n",
       "6      1e+03           USA    Unprovoked   M  60     N  2016\n",
       "7      1e+03           USA    Unprovoked   F  51     N  2016\n",
       "...      ...           ...           ...  ..  ..   ...   ...\n",
       "4247   3e+02  SOUTH AFRICA    Unprovoked   M  27     N  1950\n",
       "4249   5e+02     AUSTRALIA  Sea Disaster   M  50     Y  1950\n",
       "4252   3e+02  SOUTH AFRICA    Unprovoked   M  20     Y  1950\n",
       "4255   3e+02  SOUTH AFRICA    Unprovoked   M  14     Y  1950\n",
       "4262       3     INDONESIA    Unprovoked   M  78     Y  1950\n",
       "\n",
       "[2823 rows x 7 columns]"
      ]
     },
     "execution_count": 234,
     "metadata": {},
     "output_type": "execute_result"
    }
   ],
   "source": [
    "final = pd.concat([df2, df3, df5, dfAge, df6, df7], axis=1)\n",
    "finalbien=final.T.drop_duplicates().T\n",
    "finalbien\n"
   ]
  },
  {
   "cell_type": "code",
   "execution_count": 235,
   "metadata": {},
   "outputs": [
    {
     "name": "stdout",
     "output_type": "stream",
     "text": [
      "Attacks    object\n",
      "Country    object\n",
      "Type       object\n",
      "Sex        object\n",
      "Age        object\n",
      "Fatal      object\n",
      "Year       object\n",
      "dtype: object\n",
      "Index(['Attacks', 'Country', 'Type', 'Sex', 'Age', 'Fatal', 'Year'], dtype='object')\n"
     ]
    }
   ],
   "source": [
    "print(finalbien.dtypes)\n",
    "print(finalbien.columns)\n",
    "finalbien[\"Attacks\"] = finalbien[\"Attacks\"].astype(float)\n",
    "finalbien[\"Age\"] = finalbien[\"Age\"].astype(int)\n",
    "finalbien[\"Year\"] = finalbien[\"Year\"].astype(int)\n"
   ]
  },
  {
   "cell_type": "code",
   "execution_count": 236,
   "metadata": {},
   "outputs": [
    {
     "data": {
      "text/plain": [
       "Unprovoked      2354\n",
       "Provoked         234\n",
       "Invalid          187\n",
       "Sea Disaster      29\n",
       "Boat              19\n",
       "Name: Type, dtype: int64"
      ]
     },
     "execution_count": 236,
     "metadata": {},
     "output_type": "execute_result"
    }
   ],
   "source": [
    "finalbien['Type'].value_counts()"
   ]
  },
  {
   "cell_type": "code",
   "execution_count": 237,
   "metadata": {},
   "outputs": [
    {
     "data": {
      "text/plain": [
       "M    2398\n",
       "F     392\n",
       "Name: Sex, dtype: int64"
      ]
     },
     "execution_count": 237,
     "metadata": {},
     "output_type": "execute_result"
    }
   ],
   "source": [
    "finalbien['Sex'].value_counts()"
   ]
  },
  {
   "cell_type": "code",
   "execution_count": 238,
   "metadata": {},
   "outputs": [],
   "source": [
    "#Pasar esto a numeros para ver cuantos mueren\n",
    "finalbien['Fatal'] = finalbien['Fatal'].str.replace('N', '0')\n",
    "finalbien['Fatal'] = finalbien['Fatal'].str.replace('Y', '1')\n",
    "finalbien['Fatal'].value_counts()\n",
    "finalbien['Fatal'].fillna(0, inplace=True)\n",
    "finalbien[\"Fatal\"] = finalbien[\"Fatal\"].astype(int)\n"
   ]
  },
  {
   "cell_type": "code",
   "execution_count": 239,
   "metadata": {},
   "outputs": [
    {
     "name": "stdout",
     "output_type": "stream",
     "text": [
      "Attacks    float64\n",
      "Country     object\n",
      "Type        object\n",
      "Sex         object\n",
      "Age          int64\n",
      "Fatal        int64\n",
      "Year         int64\n",
      "dtype: object\n"
     ]
    }
   ],
   "source": [
    "print(finalbien.dtypes)"
   ]
  },
  {
   "cell_type": "code",
   "execution_count": 240,
   "metadata": {},
   "outputs": [
    {
     "data": {
      "text/html": [
       "<div>\n",
       "<style scoped>\n",
       "    .dataframe tbody tr th:only-of-type {\n",
       "        vertical-align: middle;\n",
       "    }\n",
       "\n",
       "    .dataframe tbody tr th {\n",
       "        vertical-align: top;\n",
       "    }\n",
       "\n",
       "    .dataframe thead th {\n",
       "        text-align: right;\n",
       "    }\n",
       "</style>\n",
       "<table border=\"1\" class=\"dataframe\">\n",
       "  <thead>\n",
       "    <tr style=\"text-align: right;\">\n",
       "      <th></th>\n",
       "      <th>Country</th>\n",
       "      <th>Attacks</th>\n",
       "      <th>Age</th>\n",
       "      <th>Year</th>\n",
       "      <th>Fatal</th>\n",
       "    </tr>\n",
       "  </thead>\n",
       "  <tbody>\n",
       "    <tr>\n",
       "      <th>0</th>\n",
       "      <td>ADMIRALTY ISLANDS</td>\n",
       "      <td>1</td>\n",
       "      <td>26</td>\n",
       "      <td>1962</td>\n",
       "      <td>0</td>\n",
       "    </tr>\n",
       "    <tr>\n",
       "      <th>1</th>\n",
       "      <td>AMERICAN SAMOA</td>\n",
       "      <td>3</td>\n",
       "      <td>26</td>\n",
       "      <td>1958</td>\n",
       "      <td>3</td>\n",
       "    </tr>\n",
       "    <tr>\n",
       "      <th>2</th>\n",
       "      <td>ANDAMAN / NICOBAR ISLANDAS</td>\n",
       "      <td>1</td>\n",
       "      <td>32</td>\n",
       "      <td>1958</td>\n",
       "      <td>1</td>\n",
       "    </tr>\n",
       "    <tr>\n",
       "      <th>3</th>\n",
       "      <td>ARGENTINA</td>\n",
       "      <td>1</td>\n",
       "      <td>18</td>\n",
       "      <td>1954</td>\n",
       "      <td>0</td>\n",
       "    </tr>\n",
       "    <tr>\n",
       "      <th>4</th>\n",
       "      <td>ARUBA</td>\n",
       "      <td>1</td>\n",
       "      <td>58</td>\n",
       "      <td>2015</td>\n",
       "      <td>1</td>\n",
       "    </tr>\n",
       "    <tr>\n",
       "      <th>...</th>\n",
       "      <td>...</td>\n",
       "      <td>...</td>\n",
       "      <td>...</td>\n",
       "      <td>...</td>\n",
       "      <td>...</td>\n",
       "    </tr>\n",
       "    <tr>\n",
       "      <th>105</th>\n",
       "      <td>USA</td>\n",
       "      <td>1349</td>\n",
       "      <td>27</td>\n",
       "      <td>2016</td>\n",
       "      <td>79</td>\n",
       "    </tr>\n",
       "    <tr>\n",
       "      <th>106</th>\n",
       "      <td>VANUATU</td>\n",
       "      <td>5</td>\n",
       "      <td>17</td>\n",
       "      <td>2005</td>\n",
       "      <td>3</td>\n",
       "    </tr>\n",
       "    <tr>\n",
       "      <th>107</th>\n",
       "      <td>VENEZUELA</td>\n",
       "      <td>4</td>\n",
       "      <td>37</td>\n",
       "      <td>2004</td>\n",
       "      <td>2</td>\n",
       "    </tr>\n",
       "    <tr>\n",
       "      <th>108</th>\n",
       "      <td>VIETNAM</td>\n",
       "      <td>5</td>\n",
       "      <td>47</td>\n",
       "      <td>2010</td>\n",
       "      <td>0</td>\n",
       "    </tr>\n",
       "    <tr>\n",
       "      <th>109</th>\n",
       "      <td>WESTERN SAMOA</td>\n",
       "      <td>1</td>\n",
       "      <td>25</td>\n",
       "      <td>1972</td>\n",
       "      <td>1</td>\n",
       "    </tr>\n",
       "  </tbody>\n",
       "</table>\n",
       "<p>110 rows × 5 columns</p>\n",
       "</div>"
      ],
      "text/plain": [
       "                        Country  Attacks  Age  Year  Fatal\n",
       "0             ADMIRALTY ISLANDS        1   26  1962      0\n",
       "1                AMERICAN SAMOA        3   26  1958      3\n",
       "2    ANDAMAN / NICOBAR ISLANDAS        1   32  1958      1\n",
       "3                     ARGENTINA        1   18  1954      0\n",
       "4                         ARUBA        1   58  2015      1\n",
       "..                          ...      ...  ...   ...    ...\n",
       "105                         USA     1349   27  2016     79\n",
       "106                     VANUATU        5   17  2005      3\n",
       "107                   VENEZUELA        4   37  2004      2\n",
       "108                     VIETNAM        5   47  2010      0\n",
       "109               WESTERN SAMOA        1   25  1972      1\n",
       "\n",
       "[110 rows x 5 columns]"
      ]
     },
     "metadata": {},
     "output_type": "display_data"
    }
   ],
   "source": [
    "Attacks = finalbien.groupby('Country', as_index=False).aggregate({'Attacks':'max', 'Age':'mean', 'Year':'max', 'Fatal':'sum'})\n",
    "Attacks.columns=['Country', 'Attacks', 'Age', 'Year', 'Fatal']\n",
    "display(Attacks)\n"
   ]
  },
  {
   "cell_type": "code",
   "execution_count": 241,
   "metadata": {},
   "outputs": [],
   "source": [
    "Attacks = Attacks.sort_values(['Attacks'], ascending=[False])\n"
   ]
  },
  {
   "cell_type": "code",
   "execution_count": 242,
   "metadata": {},
   "outputs": [
    {
     "data": {
      "text/html": [
       "<div>\n",
       "<style scoped>\n",
       "    .dataframe tbody tr th:only-of-type {\n",
       "        vertical-align: middle;\n",
       "    }\n",
       "\n",
       "    .dataframe tbody tr th {\n",
       "        vertical-align: top;\n",
       "    }\n",
       "\n",
       "    .dataframe thead th {\n",
       "        text-align: right;\n",
       "    }\n",
       "</style>\n",
       "<table border=\"1\" class=\"dataframe\">\n",
       "  <thead>\n",
       "    <tr style=\"text-align: right;\">\n",
       "      <th></th>\n",
       "      <th>Country</th>\n",
       "      <th>Attacks</th>\n",
       "      <th>Age</th>\n",
       "      <th>Year</th>\n",
       "      <th>Fatal</th>\n",
       "      <th>% Fatal</th>\n",
       "    </tr>\n",
       "  </thead>\n",
       "  <tbody>\n",
       "    <tr>\n",
       "      <th>105</th>\n",
       "      <td>USA</td>\n",
       "      <td>1349</td>\n",
       "      <td>27</td>\n",
       "      <td>2016</td>\n",
       "      <td>79</td>\n",
       "      <td>6</td>\n",
       "    </tr>\n",
       "    <tr>\n",
       "      <th>5</th>\n",
       "      <td>AUSTRALIA</td>\n",
       "      <td>486</td>\n",
       "      <td>29</td>\n",
       "      <td>2016</td>\n",
       "      <td>107</td>\n",
       "      <td>22</td>\n",
       "    </tr>\n",
       "    <tr>\n",
       "      <th>89</th>\n",
       "      <td>SOUTH AFRICA</td>\n",
       "      <td>305</td>\n",
       "      <td>26</td>\n",
       "      <td>2016</td>\n",
       "      <td>61</td>\n",
       "      <td>20</td>\n",
       "    </tr>\n",
       "    <tr>\n",
       "      <th>7</th>\n",
       "      <td>BAHAMAS</td>\n",
       "      <td>59</td>\n",
       "      <td>37</td>\n",
       "      <td>2016</td>\n",
       "      <td>5</td>\n",
       "      <td>8</td>\n",
       "    </tr>\n",
       "    <tr>\n",
       "      <th>10</th>\n",
       "      <td>BRAZIL</td>\n",
       "      <td>56</td>\n",
       "      <td>23</td>\n",
       "      <td>2016</td>\n",
       "      <td>21</td>\n",
       "      <td>38</td>\n",
       "    </tr>\n",
       "    <tr>\n",
       "      <th>...</th>\n",
       "      <td>...</td>\n",
       "      <td>...</td>\n",
       "      <td>...</td>\n",
       "      <td>...</td>\n",
       "      <td>...</td>\n",
       "      <td>...</td>\n",
       "    </tr>\n",
       "    <tr>\n",
       "      <th>64</th>\n",
       "      <td>NORTH ATLANTIC OCEAN</td>\n",
       "      <td>1</td>\n",
       "      <td>34</td>\n",
       "      <td>1980</td>\n",
       "      <td>0</td>\n",
       "      <td>0</td>\n",
       "    </tr>\n",
       "    <tr>\n",
       "      <th>65</th>\n",
       "      <td>NORTH ATLANTIC OCEAN</td>\n",
       "      <td>1</td>\n",
       "      <td>15</td>\n",
       "      <td>1955</td>\n",
       "      <td>0</td>\n",
       "      <td>0</td>\n",
       "    </tr>\n",
       "    <tr>\n",
       "      <th>67</th>\n",
       "      <td>NORTH SEA</td>\n",
       "      <td>1</td>\n",
       "      <td>18</td>\n",
       "      <td>1960</td>\n",
       "      <td>0</td>\n",
       "      <td>0</td>\n",
       "    </tr>\n",
       "    <tr>\n",
       "      <th>68</th>\n",
       "      <td>NORWAY</td>\n",
       "      <td>1</td>\n",
       "      <td>48</td>\n",
       "      <td>2007</td>\n",
       "      <td>0</td>\n",
       "      <td>0</td>\n",
       "    </tr>\n",
       "    <tr>\n",
       "      <th>109</th>\n",
       "      <td>WESTERN SAMOA</td>\n",
       "      <td>1</td>\n",
       "      <td>25</td>\n",
       "      <td>1972</td>\n",
       "      <td>1</td>\n",
       "      <td>100</td>\n",
       "    </tr>\n",
       "  </tbody>\n",
       "</table>\n",
       "<p>110 rows × 6 columns</p>\n",
       "</div>"
      ],
      "text/plain": [
       "                   Country  Attacks  Age  Year  Fatal  % Fatal\n",
       "105                    USA     1349   27  2016     79        6\n",
       "5                AUSTRALIA      486   29  2016    107       22\n",
       "89            SOUTH AFRICA      305   26  2016     61       20\n",
       "7                  BAHAMAS       59   37  2016      5        8\n",
       "10                  BRAZIL       56   23  2016     21       38\n",
       "..                     ...      ...  ...   ...    ...      ...\n",
       "64    NORTH ATLANTIC OCEAN        1   34  1980      0        0\n",
       "65   NORTH ATLANTIC OCEAN         1   15  1955      0        0\n",
       "67               NORTH SEA        1   18  1960      0        0\n",
       "68                  NORWAY        1   48  2007      0        0\n",
       "109          WESTERN SAMOA        1   25  1972      1      100\n",
       "\n",
       "[110 rows x 6 columns]"
      ]
     },
     "execution_count": 242,
     "metadata": {},
     "output_type": "execute_result"
    }
   ],
   "source": [
    "Attacks['% Fatal']=Attacks['Fatal']*100/Attacks['Attacks']\n",
    "Attacks"
   ]
  },
  {
   "cell_type": "code",
   "execution_count": 243,
   "metadata": {},
   "outputs": [
    {
     "data": {
      "image/jpeg": "[encoded data removed]",
      "text/plain": [
       "<IPython.core.display.Image object>"
      ]
     },
     "execution_count": 243,
     "metadata": {
      "image/jpeg": {
       "height": 400,
       "width": 400
      }
     },
     "output_type": "execute_result"
    }
   ],
   "source": [
    "from IPython.display import Image\n",
    "Image(filename='./tiburon.jpeg', width=400 , height=400)"
   ]
  },
  {
   "cell_type": "code",
   "execution_count": 245,
   "metadata": {},
   "outputs": [
    {
     "data": {
      "text/plain": [
       "'\\nMi hipotesis es que le dan mala fama a los tiburones en Hollywood, denominandolos \"Tiburones Asesinos\",\\ny todos los ataques que ha habido en USA desde el año 1950, solo el 6% han acabado con la muerte de personas.\\n'"
      ]
     },
     "execution_count": 245,
     "metadata": {},
     "output_type": "execute_result"
    }
   ],
   "source": [
    "'''\n",
    "Mi hipotesis es que le dan mala fama a los tiburones en Hollywood, denominandolos \"Tiburones Asesinos\",\n",
    "y todos los ataques que ha habido en USA desde el año 1950, solo el 6% han acabado con la muerte de personas.\n",
    "'''"
   ]
  },
  {
   "cell_type": "code",
   "execution_count": 248,
   "metadata": {},
   "outputs": [],
   "source": [
    "Attacks.to_csv('Attacks.csv', header=True, index=False)"
   ]
  },
  {
   "cell_type": "code",
   "execution_count": null,
   "metadata": {},
   "outputs": [],
   "source": []
  }
 ],
 "metadata": {
  "kernelspec": {
   "display_name": "Python 3",
   "language": "python",
   "name": "python3"
  },
  "language_info": {
   "codemirror_mode": {
    "name": "ipython",
    "version": 3
   },
   "file_extension": ".py",
   "mimetype": "text/x-python",
   "name": "python",
   "nbconvert_exporter": "python",
   "pygments_lexer": "ipython3",
   "version": "3.7.4"
  }
 },
 "nbformat": 4,
 "nbformat_minor": 2
}
